{
  "cells": [
    {
      "cell_type": "markdown",
      "id": "322bccac",
      "metadata": {
        "id": "322bccac"
      },
      "source": [
        "##                                            **Student Job Profile Classification using Machine Learning**\n",
        "\n",
        "# Group 9\n",
        "**Group Members :**\n",
        "\n",
        "1) Laxmikanth Reddy Jitta\n",
        "\n",
        "2) Likitha Reddy Kotla\n",
        "\n",
        "3) Sahithi Anchula\n",
        "\n",
        "## CS 616-CO\n",
        "\n",
        "DATA SET LINK : https://www.kaggle.com/datasets/yuvjeetarora/student-job-profile\n"
      ]
    },
    {
      "cell_type": "markdown",
      "id": "9f836685",
      "metadata": {
        "id": "9f836685"
      },
      "source": [
        "## CLASSIFICATION"
      ]
    },
    {
      "cell_type": "markdown",
      "id": "5f82db01",
      "metadata": {
        "id": "5f82db01"
      },
      "source": [
        "\n",
        "### Target column : Profile\n",
        "\n",
        "### Feautures used in algorithms\n",
        "\n",
        "1) DSA : score in Data Structures and Algorithms\n",
        "\n",
        "2) DBMS :score in Database Management Systems\n",
        "\n",
        "3) OS: score in Operating Systems\n",
        "\n",
        "4) CN : score in Computer Networks\n",
        "\n",
        "5) Mathemetics : score in Mathematical skills\n",
        "\n",
        "6) Aptitute : score in General aptitude\n",
        "\n",
        "7) Comm : score in Communication skills\n",
        "\n",
        "8) Problem Solving : score in Problem-solving abilities\n",
        "\n",
        "9) Creative : score in Creativity level\n",
        "\n",
        "10) Hackathons : Participation in hackathons\n",
        "\n",
        "11) Skill : technical skill\n"
      ]
    },
    {
      "cell_type": "markdown",
      "id": "5fd7a7fb",
      "metadata": {
        "id": "5fd7a7fb"
      },
      "source": [
        "## IMPORTING REQUIRED PACKAGES\n",
        "## STEP1-READING THE DATA"
      ]
    },
    {
      "cell_type": "code",
      "execution_count": 1,
      "id": "6c2a62fb",
      "metadata": {
        "id": "6c2a62fb"
      },
      "outputs": [],
      "source": [
        "#reading the data\n",
        "import pandas as pd\n",
        "import timeit\n",
        "df = pd.read_csv(\"Student Placement.csv\")\n"
      ]
    },
    {
      "cell_type": "markdown",
      "id": "85c03200",
      "metadata": {
        "id": "85c03200"
      },
      "source": [
        "Shape():The shape method is often used with arrays. It returns a tuple representing the dimensions of the array."
      ]
    },
    {
      "cell_type": "code",
      "execution_count": 2,
      "id": "e38a3de7",
      "metadata": {
        "colab": {
          "base_uri": "https://localhost:8080/"
        },
        "id": "e38a3de7",
        "outputId": "68c6c687-bfbf-42dd-c797-5b241087c54d"
      },
      "outputs": [
        {
          "data": {
            "text/plain": [
              "(707, 12)"
            ]
          },
          "execution_count": 2,
          "metadata": {},
          "output_type": "execute_result"
        }
      ],
      "source": [
        "#gives total rows and columns\n",
        "df.shape"
      ]
    },
    {
      "cell_type": "markdown",
      "id": "9369585e",
      "metadata": {
        "id": "9369585e"
      },
      "source": [
        "Describe(): The describe method is often used with data frames. It provides summary statistics of the numerical columns in the data frame"
      ]
    },
    {
      "cell_type": "code",
      "execution_count": 3,
      "id": "b4b144f6",
      "metadata": {
        "colab": {
          "base_uri": "https://localhost:8080/",
          "height": 300
        },
        "id": "b4b144f6",
        "outputId": "ed21ece3-74d0-4a43-f30d-9c0fcad37b21"
      },
      "outputs": [
        {
          "data": {
            "application/vnd.google.colaboratory.intrinsic+json": {
              "summary": "{\n  \"name\": \"df\",\n  \"rows\": 8,\n  \"fields\": [\n    {\n      \"column\": \"DSA\",\n      \"properties\": {\n        \"dtype\": \"number\",\n        \"std\": 232.6731575829536,\n        \"min\": 5.0,\n        \"max\": 707.0,\n        \"num_unique_values\": 8,\n        \"samples\": [\n          60.981612446958984,\n          67.0,\n          707.0\n        ],\n        \"semantic_type\": \"\",\n        \"description\": \"\"\n      }\n    },\n    {\n      \"column\": \"DBMS\",\n      \"properties\": {\n        \"dtype\": \"number\",\n        \"std\": 232.03646386443873,\n        \"min\": 5.0,\n        \"max\": 707.0,\n        \"num_unique_values\": 8,\n        \"samples\": [\n          64.22489391796323,\n          76.0,\n          707.0\n        ],\n        \"semantic_type\": \"\",\n        \"description\": \"\"\n      }\n    },\n    {\n      \"column\": \"OS\",\n      \"properties\": {\n        \"dtype\": \"number\",\n        \"std\": 231.87064726606928,\n        \"min\": 5.0,\n        \"max\": 707.0,\n        \"num_unique_values\": 8,\n        \"samples\": [\n          64.4950495049505,\n          73.0,\n          707.0\n        ],\n        \"semantic_type\": \"\",\n        \"description\": \"\"\n      }\n    },\n    {\n      \"column\": \"CN\",\n      \"properties\": {\n        \"dtype\": \"number\",\n        \"std\": 233.27880569802267,\n        \"min\": 5.0,\n        \"max\": 707.0,\n        \"num_unique_values\": 8,\n        \"samples\": [\n          58.698727015558696,\n          62.0,\n          707.0\n        ],\n        \"semantic_type\": \"\",\n        \"description\": \"\"\n      }\n    },\n    {\n      \"column\": \"Mathmetics\",\n      \"properties\": {\n        \"dtype\": \"number\",\n        \"std\": 235.50570136413106,\n        \"min\": 0.0,\n        \"max\": 707.0,\n        \"num_unique_values\": 8,\n        \"samples\": [\n          49.946251768033946,\n          48.0,\n          707.0\n        ],\n        \"semantic_type\": \"\",\n        \"description\": \"\"\n      }\n    },\n    {\n      \"column\": \"Aptitute\",\n      \"properties\": {\n        \"dtype\": \"number\",\n        \"std\": 233.26784633793932,\n        \"min\": 13.0,\n        \"max\": 707.0,\n        \"num_unique_values\": 8,\n        \"samples\": [\n          56.23196605374823,\n          60.0,\n          707.0\n        ],\n        \"semantic_type\": \"\",\n        \"description\": \"\"\n      }\n    },\n    {\n      \"column\": \"Comm\",\n      \"properties\": {\n        \"dtype\": \"number\",\n        \"std\": 229.98570817486353,\n        \"min\": 11.236334007429019,\n        \"max\": 707.0,\n        \"num_unique_values\": 8,\n        \"samples\": [\n          69.25459688826025,\n          71.0,\n          707.0\n        ],\n        \"semantic_type\": \"\",\n        \"description\": \"\"\n      }\n    },\n    {\n      \"column\": \"Problem Solving\",\n      \"properties\": {\n        \"dtype\": \"number\",\n        \"std\": 248.16795252596557,\n        \"min\": 1.0,\n        \"max\": 707.0,\n        \"num_unique_values\": 8,\n        \"samples\": [\n          5.471004243281471,\n          6.0,\n          707.0\n        ],\n        \"semantic_type\": \"\",\n        \"description\": \"\"\n      }\n    },\n    {\n      \"column\": \"Creative\",\n      \"properties\": {\n        \"dtype\": \"number\",\n        \"std\": 248.0549470933259,\n        \"min\": 1.8888393784446094,\n        \"max\": 707.0,\n        \"num_unique_values\": 8,\n        \"samples\": [\n          6.151343705799151,\n          6.0,\n          707.0\n        ],\n        \"semantic_type\": \"\",\n        \"description\": \"\"\n      }\n    },\n    {\n      \"column\": \"Hackathons\",\n      \"properties\": {\n        \"dtype\": \"number\",\n        \"std\": 248.73341624508254,\n        \"min\": 0.0,\n        \"max\": 707.0,\n        \"num_unique_values\": 8,\n        \"samples\": [\n          3.1004243281471005,\n          3.0,\n          707.0\n        ],\n        \"semantic_type\": \"\",\n        \"description\": \"\"\n      }\n    }\n  ]\n}",
              "type": "dataframe"
            },
            "text/html": [
              "\n",
              "  <div id=\"df-b7196708-f74e-4030-88a5-5b23b67816c4\" class=\"colab-df-container\">\n",
              "    <div>\n",
              "<style scoped>\n",
              "    .dataframe tbody tr th:only-of-type {\n",
              "        vertical-align: middle;\n",
              "    }\n",
              "\n",
              "    .dataframe tbody tr th {\n",
              "        vertical-align: top;\n",
              "    }\n",
              "\n",
              "    .dataframe thead th {\n",
              "        text-align: right;\n",
              "    }\n",
              "</style>\n",
              "<table border=\"1\" class=\"dataframe\">\n",
              "  <thead>\n",
              "    <tr style=\"text-align: right;\">\n",
              "      <th></th>\n",
              "      <th>DSA</th>\n",
              "      <th>DBMS</th>\n",
              "      <th>OS</th>\n",
              "      <th>CN</th>\n",
              "      <th>Mathmetics</th>\n",
              "      <th>Aptitute</th>\n",
              "      <th>Comm</th>\n",
              "      <th>Problem Solving</th>\n",
              "      <th>Creative</th>\n",
              "      <th>Hackathons</th>\n",
              "    </tr>\n",
              "  </thead>\n",
              "  <tbody>\n",
              "    <tr>\n",
              "      <th>count</th>\n",
              "      <td>707.000000</td>\n",
              "      <td>707.000000</td>\n",
              "      <td>707.000000</td>\n",
              "      <td>707.000000</td>\n",
              "      <td>707.000000</td>\n",
              "      <td>707.000000</td>\n",
              "      <td>707.000000</td>\n",
              "      <td>707.000000</td>\n",
              "      <td>707.000000</td>\n",
              "      <td>707.000000</td>\n",
              "    </tr>\n",
              "    <tr>\n",
              "      <th>mean</th>\n",
              "      <td>60.981612</td>\n",
              "      <td>64.224894</td>\n",
              "      <td>64.495050</td>\n",
              "      <td>58.698727</td>\n",
              "      <td>49.946252</td>\n",
              "      <td>56.231966</td>\n",
              "      <td>69.254597</td>\n",
              "      <td>5.471004</td>\n",
              "      <td>6.151344</td>\n",
              "      <td>3.100424</td>\n",
              "    </tr>\n",
              "    <tr>\n",
              "      <th>std</th>\n",
              "      <td>23.835685</td>\n",
              "      <td>26.251595</td>\n",
              "      <td>23.475825</td>\n",
              "      <td>24.828101</td>\n",
              "      <td>29.690518</td>\n",
              "      <td>23.870756</td>\n",
              "      <td>11.236334</td>\n",
              "      <td>2.362405</td>\n",
              "      <td>1.888839</td>\n",
              "      <td>2.594358</td>\n",
              "    </tr>\n",
              "    <tr>\n",
              "      <th>min</th>\n",
              "      <td>5.000000</td>\n",
              "      <td>5.000000</td>\n",
              "      <td>5.000000</td>\n",
              "      <td>5.000000</td>\n",
              "      <td>0.000000</td>\n",
              "      <td>13.000000</td>\n",
              "      <td>40.000000</td>\n",
              "      <td>1.000000</td>\n",
              "      <td>2.000000</td>\n",
              "      <td>0.000000</td>\n",
              "    </tr>\n",
              "    <tr>\n",
              "      <th>25%</th>\n",
              "      <td>45.000000</td>\n",
              "      <td>41.000000</td>\n",
              "      <td>53.000000</td>\n",
              "      <td>38.500000</td>\n",
              "      <td>22.500000</td>\n",
              "      <td>35.000000</td>\n",
              "      <td>62.000000</td>\n",
              "      <td>4.000000</td>\n",
              "      <td>5.000000</td>\n",
              "      <td>1.000000</td>\n",
              "    </tr>\n",
              "    <tr>\n",
              "      <th>50%</th>\n",
              "      <td>67.000000</td>\n",
              "      <td>76.000000</td>\n",
              "      <td>73.000000</td>\n",
              "      <td>62.000000</td>\n",
              "      <td>48.000000</td>\n",
              "      <td>60.000000</td>\n",
              "      <td>71.000000</td>\n",
              "      <td>6.000000</td>\n",
              "      <td>6.000000</td>\n",
              "      <td>3.000000</td>\n",
              "    </tr>\n",
              "    <tr>\n",
              "      <th>75%</th>\n",
              "      <td>80.000000</td>\n",
              "      <td>85.000000</td>\n",
              "      <td>82.500000</td>\n",
              "      <td>80.000000</td>\n",
              "      <td>78.000000</td>\n",
              "      <td>77.000000</td>\n",
              "      <td>78.000000</td>\n",
              "      <td>7.000000</td>\n",
              "      <td>7.000000</td>\n",
              "      <td>5.000000</td>\n",
              "    </tr>\n",
              "    <tr>\n",
              "      <th>max</th>\n",
              "      <td>99.000000</td>\n",
              "      <td>100.000000</td>\n",
              "      <td>95.000000</td>\n",
              "      <td>100.000000</td>\n",
              "      <td>99.000000</td>\n",
              "      <td>99.000000</td>\n",
              "      <td>90.000000</td>\n",
              "      <td>10.000000</td>\n",
              "      <td>10.000000</td>\n",
              "      <td>10.000000</td>\n",
              "    </tr>\n",
              "  </tbody>\n",
              "</table>\n",
              "</div>\n",
              "    <div class=\"colab-df-buttons\">\n",
              "\n",
              "  <div class=\"colab-df-container\">\n",
              "    <button class=\"colab-df-convert\" onclick=\"convertToInteractive('df-b7196708-f74e-4030-88a5-5b23b67816c4')\"\n",
              "            title=\"Convert this dataframe to an interactive table.\"\n",
              "            style=\"display:none;\">\n",
              "\n",
              "  <svg xmlns=\"http://www.w3.org/2000/svg\" height=\"24px\" viewBox=\"0 -960 960 960\">\n",
              "    <path d=\"M120-120v-720h720v720H120Zm60-500h600v-160H180v160Zm220 220h160v-160H400v160Zm0 220h160v-160H400v160ZM180-400h160v-160H180v160Zm440 0h160v-160H620v160ZM180-180h160v-160H180v160Zm440 0h160v-160H620v160Z\"/>\n",
              "  </svg>\n",
              "    </button>\n",
              "\n",
              "  <style>\n",
              "    .colab-df-container {\n",
              "      display:flex;\n",
              "      gap: 12px;\n",
              "    }\n",
              "\n",
              "    .colab-df-convert {\n",
              "      background-color: #E8F0FE;\n",
              "      border: none;\n",
              "      border-radius: 50%;\n",
              "      cursor: pointer;\n",
              "      display: none;\n",
              "      fill: #1967D2;\n",
              "      height: 32px;\n",
              "      padding: 0 0 0 0;\n",
              "      width: 32px;\n",
              "    }\n",
              "\n",
              "    .colab-df-convert:hover {\n",
              "      background-color: #E2EBFA;\n",
              "      box-shadow: 0px 1px 2px rgba(60, 64, 67, 0.3), 0px 1px 3px 1px rgba(60, 64, 67, 0.15);\n",
              "      fill: #174EA6;\n",
              "    }\n",
              "\n",
              "    .colab-df-buttons div {\n",
              "      margin-bottom: 4px;\n",
              "    }\n",
              "\n",
              "    [theme=dark] .colab-df-convert {\n",
              "      background-color: #3B4455;\n",
              "      fill: #D2E3FC;\n",
              "    }\n",
              "\n",
              "    [theme=dark] .colab-df-convert:hover {\n",
              "      background-color: #434B5C;\n",
              "      box-shadow: 0px 1px 3px 1px rgba(0, 0, 0, 0.15);\n",
              "      filter: drop-shadow(0px 1px 2px rgba(0, 0, 0, 0.3));\n",
              "      fill: #FFFFFF;\n",
              "    }\n",
              "  </style>\n",
              "\n",
              "    <script>\n",
              "      const buttonEl =\n",
              "        document.querySelector('#df-b7196708-f74e-4030-88a5-5b23b67816c4 button.colab-df-convert');\n",
              "      buttonEl.style.display =\n",
              "        google.colab.kernel.accessAllowed ? 'block' : 'none';\n",
              "\n",
              "      async function convertToInteractive(key) {\n",
              "        const element = document.querySelector('#df-b7196708-f74e-4030-88a5-5b23b67816c4');\n",
              "        const dataTable =\n",
              "          await google.colab.kernel.invokeFunction('convertToInteractive',\n",
              "                                                    [key], {});\n",
              "        if (!dataTable) return;\n",
              "\n",
              "        const docLinkHtml = 'Like what you see? Visit the ' +\n",
              "          '<a target=\"_blank\" href=https://colab.research.google.com/notebooks/data_table.ipynb>data table notebook</a>'\n",
              "          + ' to learn more about interactive tables.';\n",
              "        element.innerHTML = '';\n",
              "        dataTable['output_type'] = 'display_data';\n",
              "        await google.colab.output.renderOutput(dataTable, element);\n",
              "        const docLink = document.createElement('div');\n",
              "        docLink.innerHTML = docLinkHtml;\n",
              "        element.appendChild(docLink);\n",
              "      }\n",
              "    </script>\n",
              "  </div>\n",
              "\n",
              "\n",
              "<div id=\"df-f42ea604-a813-4bf3-84b4-d99db73788e0\">\n",
              "  <button class=\"colab-df-quickchart\" onclick=\"quickchart('df-f42ea604-a813-4bf3-84b4-d99db73788e0')\"\n",
              "            title=\"Suggest charts\"\n",
              "            style=\"display:none;\">\n",
              "\n",
              "<svg xmlns=\"http://www.w3.org/2000/svg\" height=\"24px\"viewBox=\"0 0 24 24\"\n",
              "     width=\"24px\">\n",
              "    <g>\n",
              "        <path d=\"M19 3H5c-1.1 0-2 .9-2 2v14c0 1.1.9 2 2 2h14c1.1 0 2-.9 2-2V5c0-1.1-.9-2-2-2zM9 17H7v-7h2v7zm4 0h-2V7h2v10zm4 0h-2v-4h2v4z\"/>\n",
              "    </g>\n",
              "</svg>\n",
              "  </button>\n",
              "\n",
              "<style>\n",
              "  .colab-df-quickchart {\n",
              "      --bg-color: #E8F0FE;\n",
              "      --fill-color: #1967D2;\n",
              "      --hover-bg-color: #E2EBFA;\n",
              "      --hover-fill-color: #174EA6;\n",
              "      --disabled-fill-color: #AAA;\n",
              "      --disabled-bg-color: #DDD;\n",
              "  }\n",
              "\n",
              "  [theme=dark] .colab-df-quickchart {\n",
              "      --bg-color: #3B4455;\n",
              "      --fill-color: #D2E3FC;\n",
              "      --hover-bg-color: #434B5C;\n",
              "      --hover-fill-color: #FFFFFF;\n",
              "      --disabled-bg-color: #3B4455;\n",
              "      --disabled-fill-color: #666;\n",
              "  }\n",
              "\n",
              "  .colab-df-quickchart {\n",
              "    background-color: var(--bg-color);\n",
              "    border: none;\n",
              "    border-radius: 50%;\n",
              "    cursor: pointer;\n",
              "    display: none;\n",
              "    fill: var(--fill-color);\n",
              "    height: 32px;\n",
              "    padding: 0;\n",
              "    width: 32px;\n",
              "  }\n",
              "\n",
              "  .colab-df-quickchart:hover {\n",
              "    background-color: var(--hover-bg-color);\n",
              "    box-shadow: 0 1px 2px rgba(60, 64, 67, 0.3), 0 1px 3px 1px rgba(60, 64, 67, 0.15);\n",
              "    fill: var(--button-hover-fill-color);\n",
              "  }\n",
              "\n",
              "  .colab-df-quickchart-complete:disabled,\n",
              "  .colab-df-quickchart-complete:disabled:hover {\n",
              "    background-color: var(--disabled-bg-color);\n",
              "    fill: var(--disabled-fill-color);\n",
              "    box-shadow: none;\n",
              "  }\n",
              "\n",
              "  .colab-df-spinner {\n",
              "    border: 2px solid var(--fill-color);\n",
              "    border-color: transparent;\n",
              "    border-bottom-color: var(--fill-color);\n",
              "    animation:\n",
              "      spin 1s steps(1) infinite;\n",
              "  }\n",
              "\n",
              "  @keyframes spin {\n",
              "    0% {\n",
              "      border-color: transparent;\n",
              "      border-bottom-color: var(--fill-color);\n",
              "      border-left-color: var(--fill-color);\n",
              "    }\n",
              "    20% {\n",
              "      border-color: transparent;\n",
              "      border-left-color: var(--fill-color);\n",
              "      border-top-color: var(--fill-color);\n",
              "    }\n",
              "    30% {\n",
              "      border-color: transparent;\n",
              "      border-left-color: var(--fill-color);\n",
              "      border-top-color: var(--fill-color);\n",
              "      border-right-color: var(--fill-color);\n",
              "    }\n",
              "    40% {\n",
              "      border-color: transparent;\n",
              "      border-right-color: var(--fill-color);\n",
              "      border-top-color: var(--fill-color);\n",
              "    }\n",
              "    60% {\n",
              "      border-color: transparent;\n",
              "      border-right-color: var(--fill-color);\n",
              "    }\n",
              "    80% {\n",
              "      border-color: transparent;\n",
              "      border-right-color: var(--fill-color);\n",
              "      border-bottom-color: var(--fill-color);\n",
              "    }\n",
              "    90% {\n",
              "      border-color: transparent;\n",
              "      border-bottom-color: var(--fill-color);\n",
              "    }\n",
              "  }\n",
              "</style>\n",
              "\n",
              "  <script>\n",
              "    async function quickchart(key) {\n",
              "      const quickchartButtonEl =\n",
              "        document.querySelector('#' + key + ' button');\n",
              "      quickchartButtonEl.disabled = true;  // To prevent multiple clicks.\n",
              "      quickchartButtonEl.classList.add('colab-df-spinner');\n",
              "      try {\n",
              "        const charts = await google.colab.kernel.invokeFunction(\n",
              "            'suggestCharts', [key], {});\n",
              "      } catch (error) {\n",
              "        console.error('Error during call to suggestCharts:', error);\n",
              "      }\n",
              "      quickchartButtonEl.classList.remove('colab-df-spinner');\n",
              "      quickchartButtonEl.classList.add('colab-df-quickchart-complete');\n",
              "    }\n",
              "    (() => {\n",
              "      let quickchartButtonEl =\n",
              "        document.querySelector('#df-f42ea604-a813-4bf3-84b4-d99db73788e0 button');\n",
              "      quickchartButtonEl.style.display =\n",
              "        google.colab.kernel.accessAllowed ? 'block' : 'none';\n",
              "    })();\n",
              "  </script>\n",
              "</div>\n",
              "\n",
              "    </div>\n",
              "  </div>\n"
            ],
            "text/plain": [
              "              DSA        DBMS          OS          CN  Mathmetics    Aptitute  \\\n",
              "count  707.000000  707.000000  707.000000  707.000000  707.000000  707.000000   \n",
              "mean    60.981612   64.224894   64.495050   58.698727   49.946252   56.231966   \n",
              "std     23.835685   26.251595   23.475825   24.828101   29.690518   23.870756   \n",
              "min      5.000000    5.000000    5.000000    5.000000    0.000000   13.000000   \n",
              "25%     45.000000   41.000000   53.000000   38.500000   22.500000   35.000000   \n",
              "50%     67.000000   76.000000   73.000000   62.000000   48.000000   60.000000   \n",
              "75%     80.000000   85.000000   82.500000   80.000000   78.000000   77.000000   \n",
              "max     99.000000  100.000000   95.000000  100.000000   99.000000   99.000000   \n",
              "\n",
              "             Comm  Problem Solving    Creative  Hackathons  \n",
              "count  707.000000       707.000000  707.000000  707.000000  \n",
              "mean    69.254597         5.471004    6.151344    3.100424  \n",
              "std     11.236334         2.362405    1.888839    2.594358  \n",
              "min     40.000000         1.000000    2.000000    0.000000  \n",
              "25%     62.000000         4.000000    5.000000    1.000000  \n",
              "50%     71.000000         6.000000    6.000000    3.000000  \n",
              "75%     78.000000         7.000000    7.000000    5.000000  \n",
              "max     90.000000        10.000000   10.000000   10.000000  "
            ]
          },
          "execution_count": 3,
          "metadata": {},
          "output_type": "execute_result"
        }
      ],
      "source": [
        "#gives statistical output of all the colummns\n",
        "df.describe()"
      ]
    },
    {
      "cell_type": "markdown",
      "id": "bbadf7d4",
      "metadata": {
        "id": "bbadf7d4"
      },
      "source": [
        "## DISPLAYING FIRST 5 ROWS"
      ]
    },
    {
      "cell_type": "code",
      "execution_count": 4,
      "id": "efe2047e",
      "metadata": {
        "colab": {
          "base_uri": "https://localhost:8080/",
          "height": 206
        },
        "id": "efe2047e",
        "outputId": "0fd9d4c5-4082-4c3f-952b-e0991398e232"
      },
      "outputs": [
        {
          "data": {
            "application/vnd.google.colaboratory.intrinsic+json": {
              "summary": "{\n  \"name\": \"df\",\n  \"rows\": 707,\n  \"fields\": [\n    {\n      \"column\": \"DSA\",\n      \"properties\": {\n        \"dtype\": \"number\",\n        \"std\": 23,\n        \"min\": 5,\n        \"max\": 99,\n        \"num_unique_values\": 94,\n        \"samples\": [\n          54,\n          27,\n          72\n        ],\n        \"semantic_type\": \"\",\n        \"description\": \"\"\n      }\n    },\n    {\n      \"column\": \"DBMS\",\n      \"properties\": {\n        \"dtype\": \"number\",\n        \"std\": 26,\n        \"min\": 5,\n        \"max\": 100,\n        \"num_unique_values\": 95,\n        \"samples\": [\n          64,\n          44,\n          54\n        ],\n        \"semantic_type\": \"\",\n        \"description\": \"\"\n      }\n    },\n    {\n      \"column\": \"OS\",\n      \"properties\": {\n        \"dtype\": \"number\",\n        \"std\": 23,\n        \"min\": 5,\n        \"max\": 95,\n        \"num_unique_values\": 90,\n        \"samples\": [\n          94,\n          36,\n          66\n        ],\n        \"semantic_type\": \"\",\n        \"description\": \"\"\n      }\n    },\n    {\n      \"column\": \"CN\",\n      \"properties\": {\n        \"dtype\": \"number\",\n        \"std\": 24,\n        \"min\": 5,\n        \"max\": 100,\n        \"num_unique_values\": 96,\n        \"samples\": [\n          12,\n          100,\n          92\n        ],\n        \"semantic_type\": \"\",\n        \"description\": \"\"\n      }\n    },\n    {\n      \"column\": \"Mathmetics\",\n      \"properties\": {\n        \"dtype\": \"number\",\n        \"std\": 29,\n        \"min\": 0,\n        \"max\": 99,\n        \"num_unique_values\": 99,\n        \"samples\": [\n          82,\n          42,\n          67\n        ],\n        \"semantic_type\": \"\",\n        \"description\": \"\"\n      }\n    },\n    {\n      \"column\": \"Aptitute\",\n      \"properties\": {\n        \"dtype\": \"number\",\n        \"std\": 23,\n        \"min\": 13,\n        \"max\": 99,\n        \"num_unique_values\": 86,\n        \"samples\": [\n          87,\n          28,\n          86\n        ],\n        \"semantic_type\": \"\",\n        \"description\": \"\"\n      }\n    },\n    {\n      \"column\": \"Comm\",\n      \"properties\": {\n        \"dtype\": \"number\",\n        \"std\": 11,\n        \"min\": 40,\n        \"max\": 90,\n        \"num_unique_values\": 51,\n        \"samples\": [\n          47,\n          46,\n          42\n        ],\n        \"semantic_type\": \"\",\n        \"description\": \"\"\n      }\n    },\n    {\n      \"column\": \"Problem Solving\",\n      \"properties\": {\n        \"dtype\": \"number\",\n        \"std\": 2,\n        \"min\": 1,\n        \"max\": 10,\n        \"num_unique_values\": 10,\n        \"samples\": [\n          7,\n          4,\n          5\n        ],\n        \"semantic_type\": \"\",\n        \"description\": \"\"\n      }\n    },\n    {\n      \"column\": \"Creative\",\n      \"properties\": {\n        \"dtype\": \"number\",\n        \"std\": 1,\n        \"min\": 2,\n        \"max\": 10,\n        \"num_unique_values\": 9,\n        \"samples\": [\n          3,\n          10,\n          6\n        ],\n        \"semantic_type\": \"\",\n        \"description\": \"\"\n      }\n    },\n    {\n      \"column\": \"Hackathons\",\n      \"properties\": {\n        \"dtype\": \"number\",\n        \"std\": 2,\n        \"min\": 0,\n        \"max\": 10,\n        \"num_unique_values\": 11,\n        \"samples\": [\n          8,\n          3,\n          2\n        ],\n        \"semantic_type\": \"\",\n        \"description\": \"\"\n      }\n    },\n    {\n      \"column\": \"Skill\",\n      \"properties\": {\n        \"dtype\": \"category\",\n        \"num_unique_values\": 23,\n        \"samples\": [\n          \"Java\",\n          \"R\",\n          \"Javascript\"\n        ],\n        \"semantic_type\": \"\",\n        \"description\": \"\"\n      }\n    },\n    {\n      \"column\": \"Profile\",\n      \"properties\": {\n        \"dtype\": \"category\",\n        \"num_unique_values\": 7,\n        \"samples\": [\n          \"UI/UX\",\n          \"Web Developer\",\n          \"Network Engineer\"\n        ],\n        \"semantic_type\": \"\",\n        \"description\": \"\"\n      }\n    }\n  ]\n}",
              "type": "dataframe",
              "variable_name": "df"
            },
            "text/html": [
              "\n",
              "  <div id=\"df-7cec968b-b1ef-44ea-8901-faf17c521293\" class=\"colab-df-container\">\n",
              "    <div>\n",
              "<style scoped>\n",
              "    .dataframe tbody tr th:only-of-type {\n",
              "        vertical-align: middle;\n",
              "    }\n",
              "\n",
              "    .dataframe tbody tr th {\n",
              "        vertical-align: top;\n",
              "    }\n",
              "\n",
              "    .dataframe thead th {\n",
              "        text-align: right;\n",
              "    }\n",
              "</style>\n",
              "<table border=\"1\" class=\"dataframe\">\n",
              "  <thead>\n",
              "    <tr style=\"text-align: right;\">\n",
              "      <th></th>\n",
              "      <th>DSA</th>\n",
              "      <th>DBMS</th>\n",
              "      <th>OS</th>\n",
              "      <th>CN</th>\n",
              "      <th>Mathmetics</th>\n",
              "      <th>Aptitute</th>\n",
              "      <th>Comm</th>\n",
              "      <th>Problem Solving</th>\n",
              "      <th>Creative</th>\n",
              "      <th>Hackathons</th>\n",
              "      <th>Skill</th>\n",
              "      <th>Profile</th>\n",
              "    </tr>\n",
              "  </thead>\n",
              "  <tbody>\n",
              "    <tr>\n",
              "      <th>0</th>\n",
              "      <td>49</td>\n",
              "      <td>22</td>\n",
              "      <td>41</td>\n",
              "      <td>26</td>\n",
              "      <td>7</td>\n",
              "      <td>28</td>\n",
              "      <td>61</td>\n",
              "      <td>1</td>\n",
              "      <td>8</td>\n",
              "      <td>3</td>\n",
              "      <td>Javascript</td>\n",
              "      <td>UI/UX</td>\n",
              "    </tr>\n",
              "    <tr>\n",
              "      <th>1</th>\n",
              "      <td>39</td>\n",
              "      <td>46</td>\n",
              "      <td>45</td>\n",
              "      <td>47</td>\n",
              "      <td>3</td>\n",
              "      <td>35</td>\n",
              "      <td>65</td>\n",
              "      <td>4</td>\n",
              "      <td>10</td>\n",
              "      <td>4</td>\n",
              "      <td>HTML/CSS</td>\n",
              "      <td>UI/UX</td>\n",
              "    </tr>\n",
              "    <tr>\n",
              "      <th>2</th>\n",
              "      <td>28</td>\n",
              "      <td>32</td>\n",
              "      <td>45</td>\n",
              "      <td>35</td>\n",
              "      <td>10</td>\n",
              "      <td>23</td>\n",
              "      <td>85</td>\n",
              "      <td>3</td>\n",
              "      <td>10</td>\n",
              "      <td>3</td>\n",
              "      <td>Photoshop</td>\n",
              "      <td>UI/UX</td>\n",
              "    </tr>\n",
              "    <tr>\n",
              "      <th>3</th>\n",
              "      <td>52</td>\n",
              "      <td>38</td>\n",
              "      <td>33</td>\n",
              "      <td>38</td>\n",
              "      <td>19</td>\n",
              "      <td>27</td>\n",
              "      <td>62</td>\n",
              "      <td>1</td>\n",
              "      <td>9</td>\n",
              "      <td>3</td>\n",
              "      <td>Photoshop</td>\n",
              "      <td>UI/UX</td>\n",
              "    </tr>\n",
              "    <tr>\n",
              "      <th>4</th>\n",
              "      <td>23</td>\n",
              "      <td>31</td>\n",
              "      <td>30</td>\n",
              "      <td>38</td>\n",
              "      <td>10</td>\n",
              "      <td>13</td>\n",
              "      <td>72</td>\n",
              "      <td>4</td>\n",
              "      <td>8</td>\n",
              "      <td>5</td>\n",
              "      <td>HTML/CSS</td>\n",
              "      <td>UI/UX</td>\n",
              "    </tr>\n",
              "  </tbody>\n",
              "</table>\n",
              "</div>\n",
              "    <div class=\"colab-df-buttons\">\n",
              "\n",
              "  <div class=\"colab-df-container\">\n",
              "    <button class=\"colab-df-convert\" onclick=\"convertToInteractive('df-7cec968b-b1ef-44ea-8901-faf17c521293')\"\n",
              "            title=\"Convert this dataframe to an interactive table.\"\n",
              "            style=\"display:none;\">\n",
              "\n",
              "  <svg xmlns=\"http://www.w3.org/2000/svg\" height=\"24px\" viewBox=\"0 -960 960 960\">\n",
              "    <path d=\"M120-120v-720h720v720H120Zm60-500h600v-160H180v160Zm220 220h160v-160H400v160Zm0 220h160v-160H400v160ZM180-400h160v-160H180v160Zm440 0h160v-160H620v160ZM180-180h160v-160H180v160Zm440 0h160v-160H620v160Z\"/>\n",
              "  </svg>\n",
              "    </button>\n",
              "\n",
              "  <style>\n",
              "    .colab-df-container {\n",
              "      display:flex;\n",
              "      gap: 12px;\n",
              "    }\n",
              "\n",
              "    .colab-df-convert {\n",
              "      background-color: #E8F0FE;\n",
              "      border: none;\n",
              "      border-radius: 50%;\n",
              "      cursor: pointer;\n",
              "      display: none;\n",
              "      fill: #1967D2;\n",
              "      height: 32px;\n",
              "      padding: 0 0 0 0;\n",
              "      width: 32px;\n",
              "    }\n",
              "\n",
              "    .colab-df-convert:hover {\n",
              "      background-color: #E2EBFA;\n",
              "      box-shadow: 0px 1px 2px rgba(60, 64, 67, 0.3), 0px 1px 3px 1px rgba(60, 64, 67, 0.15);\n",
              "      fill: #174EA6;\n",
              "    }\n",
              "\n",
              "    .colab-df-buttons div {\n",
              "      margin-bottom: 4px;\n",
              "    }\n",
              "\n",
              "    [theme=dark] .colab-df-convert {\n",
              "      background-color: #3B4455;\n",
              "      fill: #D2E3FC;\n",
              "    }\n",
              "\n",
              "    [theme=dark] .colab-df-convert:hover {\n",
              "      background-color: #434B5C;\n",
              "      box-shadow: 0px 1px 3px 1px rgba(0, 0, 0, 0.15);\n",
              "      filter: drop-shadow(0px 1px 2px rgba(0, 0, 0, 0.3));\n",
              "      fill: #FFFFFF;\n",
              "    }\n",
              "  </style>\n",
              "\n",
              "    <script>\n",
              "      const buttonEl =\n",
              "        document.querySelector('#df-7cec968b-b1ef-44ea-8901-faf17c521293 button.colab-df-convert');\n",
              "      buttonEl.style.display =\n",
              "        google.colab.kernel.accessAllowed ? 'block' : 'none';\n",
              "\n",
              "      async function convertToInteractive(key) {\n",
              "        const element = document.querySelector('#df-7cec968b-b1ef-44ea-8901-faf17c521293');\n",
              "        const dataTable =\n",
              "          await google.colab.kernel.invokeFunction('convertToInteractive',\n",
              "                                                    [key], {});\n",
              "        if (!dataTable) return;\n",
              "\n",
              "        const docLinkHtml = 'Like what you see? Visit the ' +\n",
              "          '<a target=\"_blank\" href=https://colab.research.google.com/notebooks/data_table.ipynb>data table notebook</a>'\n",
              "          + ' to learn more about interactive tables.';\n",
              "        element.innerHTML = '';\n",
              "        dataTable['output_type'] = 'display_data';\n",
              "        await google.colab.output.renderOutput(dataTable, element);\n",
              "        const docLink = document.createElement('div');\n",
              "        docLink.innerHTML = docLinkHtml;\n",
              "        element.appendChild(docLink);\n",
              "      }\n",
              "    </script>\n",
              "  </div>\n",
              "\n",
              "\n",
              "<div id=\"df-b8e13c7d-8270-4cd2-84e4-3a39a37a9815\">\n",
              "  <button class=\"colab-df-quickchart\" onclick=\"quickchart('df-b8e13c7d-8270-4cd2-84e4-3a39a37a9815')\"\n",
              "            title=\"Suggest charts\"\n",
              "            style=\"display:none;\">\n",
              "\n",
              "<svg xmlns=\"http://www.w3.org/2000/svg\" height=\"24px\"viewBox=\"0 0 24 24\"\n",
              "     width=\"24px\">\n",
              "    <g>\n",
              "        <path d=\"M19 3H5c-1.1 0-2 .9-2 2v14c0 1.1.9 2 2 2h14c1.1 0 2-.9 2-2V5c0-1.1-.9-2-2-2zM9 17H7v-7h2v7zm4 0h-2V7h2v10zm4 0h-2v-4h2v4z\"/>\n",
              "    </g>\n",
              "</svg>\n",
              "  </button>\n",
              "\n",
              "<style>\n",
              "  .colab-df-quickchart {\n",
              "      --bg-color: #E8F0FE;\n",
              "      --fill-color: #1967D2;\n",
              "      --hover-bg-color: #E2EBFA;\n",
              "      --hover-fill-color: #174EA6;\n",
              "      --disabled-fill-color: #AAA;\n",
              "      --disabled-bg-color: #DDD;\n",
              "  }\n",
              "\n",
              "  [theme=dark] .colab-df-quickchart {\n",
              "      --bg-color: #3B4455;\n",
              "      --fill-color: #D2E3FC;\n",
              "      --hover-bg-color: #434B5C;\n",
              "      --hover-fill-color: #FFFFFF;\n",
              "      --disabled-bg-color: #3B4455;\n",
              "      --disabled-fill-color: #666;\n",
              "  }\n",
              "\n",
              "  .colab-df-quickchart {\n",
              "    background-color: var(--bg-color);\n",
              "    border: none;\n",
              "    border-radius: 50%;\n",
              "    cursor: pointer;\n",
              "    display: none;\n",
              "    fill: var(--fill-color);\n",
              "    height: 32px;\n",
              "    padding: 0;\n",
              "    width: 32px;\n",
              "  }\n",
              "\n",
              "  .colab-df-quickchart:hover {\n",
              "    background-color: var(--hover-bg-color);\n",
              "    box-shadow: 0 1px 2px rgba(60, 64, 67, 0.3), 0 1px 3px 1px rgba(60, 64, 67, 0.15);\n",
              "    fill: var(--button-hover-fill-color);\n",
              "  }\n",
              "\n",
              "  .colab-df-quickchart-complete:disabled,\n",
              "  .colab-df-quickchart-complete:disabled:hover {\n",
              "    background-color: var(--disabled-bg-color);\n",
              "    fill: var(--disabled-fill-color);\n",
              "    box-shadow: none;\n",
              "  }\n",
              "\n",
              "  .colab-df-spinner {\n",
              "    border: 2px solid var(--fill-color);\n",
              "    border-color: transparent;\n",
              "    border-bottom-color: var(--fill-color);\n",
              "    animation:\n",
              "      spin 1s steps(1) infinite;\n",
              "  }\n",
              "\n",
              "  @keyframes spin {\n",
              "    0% {\n",
              "      border-color: transparent;\n",
              "      border-bottom-color: var(--fill-color);\n",
              "      border-left-color: var(--fill-color);\n",
              "    }\n",
              "    20% {\n",
              "      border-color: transparent;\n",
              "      border-left-color: var(--fill-color);\n",
              "      border-top-color: var(--fill-color);\n",
              "    }\n",
              "    30% {\n",
              "      border-color: transparent;\n",
              "      border-left-color: var(--fill-color);\n",
              "      border-top-color: var(--fill-color);\n",
              "      border-right-color: var(--fill-color);\n",
              "    }\n",
              "    40% {\n",
              "      border-color: transparent;\n",
              "      border-right-color: var(--fill-color);\n",
              "      border-top-color: var(--fill-color);\n",
              "    }\n",
              "    60% {\n",
              "      border-color: transparent;\n",
              "      border-right-color: var(--fill-color);\n",
              "    }\n",
              "    80% {\n",
              "      border-color: transparent;\n",
              "      border-right-color: var(--fill-color);\n",
              "      border-bottom-color: var(--fill-color);\n",
              "    }\n",
              "    90% {\n",
              "      border-color: transparent;\n",
              "      border-bottom-color: var(--fill-color);\n",
              "    }\n",
              "  }\n",
              "</style>\n",
              "\n",
              "  <script>\n",
              "    async function quickchart(key) {\n",
              "      const quickchartButtonEl =\n",
              "        document.querySelector('#' + key + ' button');\n",
              "      quickchartButtonEl.disabled = true;  // To prevent multiple clicks.\n",
              "      quickchartButtonEl.classList.add('colab-df-spinner');\n",
              "      try {\n",
              "        const charts = await google.colab.kernel.invokeFunction(\n",
              "            'suggestCharts', [key], {});\n",
              "      } catch (error) {\n",
              "        console.error('Error during call to suggestCharts:', error);\n",
              "      }\n",
              "      quickchartButtonEl.classList.remove('colab-df-spinner');\n",
              "      quickchartButtonEl.classList.add('colab-df-quickchart-complete');\n",
              "    }\n",
              "    (() => {\n",
              "      let quickchartButtonEl =\n",
              "        document.querySelector('#df-b8e13c7d-8270-4cd2-84e4-3a39a37a9815 button');\n",
              "      quickchartButtonEl.style.display =\n",
              "        google.colab.kernel.accessAllowed ? 'block' : 'none';\n",
              "    })();\n",
              "  </script>\n",
              "</div>\n",
              "\n",
              "    </div>\n",
              "  </div>\n"
            ],
            "text/plain": [
              "   DSA  DBMS  OS  CN  Mathmetics  Aptitute  Comm  Problem Solving  Creative  \\\n",
              "0   49    22  41  26           7        28    61                1         8   \n",
              "1   39    46  45  47           3        35    65                4        10   \n",
              "2   28    32  45  35          10        23    85                3        10   \n",
              "3   52    38  33  38          19        27    62                1         9   \n",
              "4   23    31  30  38          10        13    72                4         8   \n",
              "\n",
              "   Hackathons       Skill Profile  \n",
              "0           3  Javascript   UI/UX  \n",
              "1           4    HTML/CSS   UI/UX  \n",
              "2           3   Photoshop   UI/UX  \n",
              "3           3   Photoshop   UI/UX  \n",
              "4           5    HTML/CSS   UI/UX  "
            ]
          },
          "execution_count": 4,
          "metadata": {},
          "output_type": "execute_result"
        }
      ],
      "source": [
        "#Gives first 5 columns and you can pass the value number of rows that you want to display\n",
        "df.head()"
      ]
    },
    {
      "cell_type": "code",
      "execution_count": 5,
      "id": "3c2ccdfc",
      "metadata": {
        "colab": {
          "base_uri": "https://localhost:8080/"
        },
        "id": "3c2ccdfc",
        "outputId": "5229f6ba-6740-437b-9a64-b2490b8f7773"
      },
      "outputs": [
        {
          "name": "stdout",
          "output_type": "stream",
          "text": [
            "<class 'pandas.core.frame.DataFrame'>\n",
            "RangeIndex: 707 entries, 0 to 706\n",
            "Data columns (total 12 columns):\n",
            " #   Column           Non-Null Count  Dtype \n",
            "---  ------           --------------  ----- \n",
            " 0   DSA              707 non-null    int64 \n",
            " 1   DBMS             707 non-null    int64 \n",
            " 2   OS               707 non-null    int64 \n",
            " 3   CN               707 non-null    int64 \n",
            " 4   Mathmetics       707 non-null    int64 \n",
            " 5   Aptitute         707 non-null    int64 \n",
            " 6   Comm             707 non-null    int64 \n",
            " 7   Problem Solving  707 non-null    int64 \n",
            " 8   Creative         707 non-null    int64 \n",
            " 9   Hackathons       707 non-null    int64 \n",
            " 10  Skill            707 non-null    object\n",
            " 11  Profile          707 non-null    object\n",
            "dtypes: int64(10), object(2)\n",
            "memory usage: 66.4+ KB\n"
          ]
        }
      ],
      "source": [
        "#provides summary of dataframe\n",
        "df.info()"
      ]
    },
    {
      "cell_type": "markdown",
      "id": "a12f6a5e",
      "metadata": {
        "id": "a12f6a5e"
      },
      "source": [
        "## CHECKING FOR NULL VALUES"
      ]
    },
    {
      "cell_type": "code",
      "execution_count": 6,
      "id": "1fe53ad1",
      "metadata": {
        "colab": {
          "base_uri": "https://localhost:8080/"
        },
        "id": "1fe53ad1",
        "outputId": "12c78481-1ca5-4a50-ffe0-9ec6b1ba0241"
      },
      "outputs": [
        {
          "data": {
            "text/plain": [
              "DSA                0\n",
              "DBMS               0\n",
              "OS                 0\n",
              "CN                 0\n",
              "Mathmetics         0\n",
              "Aptitute           0\n",
              "Comm               0\n",
              "Problem Solving    0\n",
              "Creative           0\n",
              "Hackathons         0\n",
              "Skill              0\n",
              "Profile            0\n",
              "dtype: int64"
            ]
          },
          "execution_count": 6,
          "metadata": {},
          "output_type": "execute_result"
        }
      ],
      "source": [
        "#Displays sum of missing values in each column\n",
        "df.isnull().sum()"
      ]
    },
    {
      "cell_type": "markdown",
      "id": "4a8332a4",
      "metadata": {
        "id": "4a8332a4"
      },
      "source": [
        "## BAR CHART - PROFILE"
      ]
    },
    {
      "cell_type": "code",
      "execution_count": 7,
      "id": "1090e20c",
      "metadata": {
        "colab": {
          "base_uri": "https://localhost:8080/",
          "height": 624
        },
        "id": "1090e20c",
        "outputId": "f448d107-5778-494b-999d-24b2b56fc221"
      },
      "outputs": [
        {
          "data": {
            "image/png": "[encoded data removed]",
            "text/plain": [
              "<Figure size 640x480 with 1 Axes>"
            ]
          },
          "metadata": {},
          "output_type": "display_data"
        }
      ],
      "source": [
        "import matplotlib.pyplot as plt\n",
        "\n",
        "# Plotting a bar chart for the 'Profile' column\n",
        "profile_counts = df['Profile'].value_counts()\n",
        "profile_counts.plot(kind='bar', color='lavender', edgecolor='black')\n",
        "\n",
        "#labels and title\n",
        "plt.xlabel('Profile')\n",
        "plt.ylabel('Count')\n",
        "plt.title('Distribution of Profiles')\n",
        "\n",
        "plt.show()"
      ]
    },
    {
      "cell_type": "markdown",
      "id": "e60f9b77",
      "metadata": {
        "id": "e60f9b77"
      },
      "source": [
        "## BAR PLOT - SKILLS"
      ]
    },
    {
      "cell_type": "code",
      "execution_count": 8,
      "id": "d957b16c",
      "metadata": {
        "colab": {
          "base_uri": "https://localhost:8080/",
          "height": 591
        },
        "id": "d957b16c",
        "outputId": "b602837c-9872-4cd8-e326-a70171020b91"
      },
      "outputs": [
        {
          "data": {
            "image/png": "[encoded data removed]",
            "text/plain": [
              "<Figure size 640x480 with 1 Axes>"
            ]
          },
          "metadata": {},
          "output_type": "display_data"
        }
      ],
      "source": [
        "import matplotlib.pyplot as plt\n",
        "\n",
        "# Plotting a bar chart for the 'Profile' column\n",
        "profile_counts = df['Skill'].value_counts()\n",
        "profile_counts.plot(kind='bar', color='grey', edgecolor='black')\n",
        "\n",
        "#labels and title\n",
        "plt.xlabel('Skill')\n",
        "plt.ylabel('Count')\n",
        "plt.title('Distribution of Skills')\n",
        "\n",
        "plt.show()"
      ]
    },
    {
      "cell_type": "markdown",
      "id": "291f9ec1",
      "metadata": {
        "id": "291f9ec1"
      },
      "source": [
        "## HISTOGRAM"
      ]
    },
    {
      "cell_type": "code",
      "execution_count": 9,
      "id": "bf8be952",
      "metadata": {
        "colab": {
          "base_uri": "https://localhost:8080/",
          "height": 607
        },
        "id": "bf8be952",
        "outputId": "2a378747-c64c-46cb-fc34-8bf510533500"
      },
      "outputs": [
        {
          "data": {
            "image/png": "[encoded data removed]",
            "text/plain": [
              "<Figure size 1000x600 with 3 Axes>"
            ]
          },
          "metadata": {},
          "output_type": "display_data"
        }
      ],
      "source": [
        "import matplotlib.pyplot as plt\n",
        "import seaborn as sns  # Import Seaborn library\n",
        "\n",
        "numeric_columns = [ 'Problem Solving', 'Hackathons','Aptitute']\n",
        "plt.figure(figsize=(10, 6))\n",
        "for i, column in enumerate(numeric_columns, 1):\n",
        "    plt.subplot(3, 1, i)\n",
        "    sns.histplot(data=df, x=column, bins=20, kde=True, color='skyblue')\n",
        "    plt.title(f'Histogram of {column}')\n",
        "    plt.xlabel(column)\n",
        "    plt.ylabel('Frequency')\n",
        "plt.tight_layout()\n",
        "plt.show()\n"
      ]
    },
    {
      "cell_type": "markdown",
      "id": "9275d80e",
      "metadata": {
        "id": "9275d80e"
      },
      "source": [
        "## STEP2- KNEIGHBOURS CLASSIFIER AND SDG CLASSIFIER"
      ]
    },
    {
      "cell_type": "markdown",
      "id": "fc1c81ec",
      "metadata": {
        "id": "fc1c81ec"
      },
      "source": [
        "The KNeighborsClassifier is a type of machine learning algorithm used for classification tasks. Instead of explicitly learning a function to make predictions, it makes predictions based on the majority class of its k nearest neighbors.\n",
        "\n"
      ]
    },
    {
      "cell_type": "markdown",
      "id": "7ae0f6c2",
      "metadata": {
        "id": "7ae0f6c2"
      },
      "source": [
        "##  KNEIGHBOURS CLASSIFIER"
      ]
    },
    {
      "cell_type": "code",
      "execution_count": 10,
      "id": "0c8b39e3",
      "metadata": {
        "id": "0c8b39e3"
      },
      "outputs": [],
      "source": [
        "import pandas as pd\n",
        "from sklearn.model_selection import train_test_split\n",
        "from sklearn.neighbors import KNeighborsClassifier\n",
        "from sklearn.metrics import accuracy_score, classification_report\n",
        "from sklearn.metrics import confusion_matrix\n",
        "from sklearn import metrics\n",
        "tic=timeit.default_timer() # start timer before training\n",
        "\n",
        "# 'Profile' is the target variable and other columns are features\n",
        "X = df.drop(['Profile'], axis=1)  # Features\n",
        "y = df['Profile']  # Target variable\n"
      ]
    },
    {
      "cell_type": "markdown",
      "id": "0b4571e7",
      "metadata": {
        "id": "0b4571e7"
      },
      "source": [
        "## ONE HOT ENCODING"
      ]
    },
    {
      "cell_type": "code",
      "execution_count": 11,
      "id": "npf5Ilc-2ksi",
      "metadata": {
        "colab": {
          "base_uri": "https://localhost:8080/",
          "height": 461
        },
        "id": "npf5Ilc-2ksi",
        "outputId": "770374d9-4c35-44d0-d0f7-211a7cccf355"
      },
      "outputs": [
        {
          "data": {
            "application/vnd.google.colaboratory.intrinsic+json": {
              "type": "dataframe",
              "variable_name": "X_encoded"
            },
            "text/html": [
              "\n",
              "  <div id=\"df-3423a5a3-c7cc-4f00-a21f-b29f29525cd3\" class=\"colab-df-container\">\n",
              "    <div>\n",
              "<style scoped>\n",
              "    .dataframe tbody tr th:only-of-type {\n",
              "        vertical-align: middle;\n",
              "    }\n",
              "\n",
              "    .dataframe tbody tr th {\n",
              "        vertical-align: top;\n",
              "    }\n",
              "\n",
              "    .dataframe thead th {\n",
              "        text-align: right;\n",
              "    }\n",
              "</style>\n",
              "<table border=\"1\" class=\"dataframe\">\n",
              "  <thead>\n",
              "    <tr style=\"text-align: right;\">\n",
              "      <th></th>\n",
              "      <th>DSA</th>\n",
              "      <th>DBMS</th>\n",
              "      <th>OS</th>\n",
              "      <th>CN</th>\n",
              "      <th>Mathmetics</th>\n",
              "      <th>Aptitute</th>\n",
              "      <th>Comm</th>\n",
              "      <th>Problem Solving</th>\n",
              "      <th>Creative</th>\n",
              "      <th>Hackathons</th>\n",
              "      <th>...</th>\n",
              "      <th>Skill_Machine Learning</th>\n",
              "      <th>Skill_Node.js</th>\n",
              "      <th>Skill_Oracle</th>\n",
              "      <th>Skill_Photoshop</th>\n",
              "      <th>Skill_Python</th>\n",
              "      <th>Skill_Pytorch</th>\n",
              "      <th>Skill_R</th>\n",
              "      <th>Skill_React</th>\n",
              "      <th>Skill_Tensorflow</th>\n",
              "      <th>Skill_Wire Shark</th>\n",
              "    </tr>\n",
              "  </thead>\n",
              "  <tbody>\n",
              "    <tr>\n",
              "      <th>0</th>\n",
              "      <td>49</td>\n",
              "      <td>22</td>\n",
              "      <td>41</td>\n",
              "      <td>26</td>\n",
              "      <td>7</td>\n",
              "      <td>28</td>\n",
              "      <td>61</td>\n",
              "      <td>1</td>\n",
              "      <td>8</td>\n",
              "      <td>3</td>\n",
              "      <td>...</td>\n",
              "      <td>0</td>\n",
              "      <td>0</td>\n",
              "      <td>0</td>\n",
              "      <td>0</td>\n",
              "      <td>0</td>\n",
              "      <td>0</td>\n",
              "      <td>0</td>\n",
              "      <td>0</td>\n",
              "      <td>0</td>\n",
              "      <td>0</td>\n",
              "    </tr>\n",
              "    <tr>\n",
              "      <th>1</th>\n",
              "      <td>39</td>\n",
              "      <td>46</td>\n",
              "      <td>45</td>\n",
              "      <td>47</td>\n",
              "      <td>3</td>\n",
              "      <td>35</td>\n",
              "      <td>65</td>\n",
              "      <td>4</td>\n",
              "      <td>10</td>\n",
              "      <td>4</td>\n",
              "      <td>...</td>\n",
              "      <td>0</td>\n",
              "      <td>0</td>\n",
              "      <td>0</td>\n",
              "      <td>0</td>\n",
              "      <td>0</td>\n",
              "      <td>0</td>\n",
              "      <td>0</td>\n",
              "      <td>0</td>\n",
              "      <td>0</td>\n",
              "      <td>0</td>\n",
              "    </tr>\n",
              "    <tr>\n",
              "      <th>2</th>\n",
              "      <td>28</td>\n",
              "      <td>32</td>\n",
              "      <td>45</td>\n",
              "      <td>35</td>\n",
              "      <td>10</td>\n",
              "      <td>23</td>\n",
              "      <td>85</td>\n",
              "      <td>3</td>\n",
              "      <td>10</td>\n",
              "      <td>3</td>\n",
              "      <td>...</td>\n",
              "      <td>0</td>\n",
              "      <td>0</td>\n",
              "      <td>0</td>\n",
              "      <td>1</td>\n",
              "      <td>0</td>\n",
              "      <td>0</td>\n",
              "      <td>0</td>\n",
              "      <td>0</td>\n",
              "      <td>0</td>\n",
              "      <td>0</td>\n",
              "    </tr>\n",
              "    <tr>\n",
              "      <th>3</th>\n",
              "      <td>52</td>\n",
              "      <td>38</td>\n",
              "      <td>33</td>\n",
              "      <td>38</td>\n",
              "      <td>19</td>\n",
              "      <td>27</td>\n",
              "      <td>62</td>\n",
              "      <td>1</td>\n",
              "      <td>9</td>\n",
              "      <td>3</td>\n",
              "      <td>...</td>\n",
              "      <td>0</td>\n",
              "      <td>0</td>\n",
              "      <td>0</td>\n",
              "      <td>1</td>\n",
              "      <td>0</td>\n",
              "      <td>0</td>\n",
              "      <td>0</td>\n",
              "      <td>0</td>\n",
              "      <td>0</td>\n",
              "      <td>0</td>\n",
              "    </tr>\n",
              "    <tr>\n",
              "      <th>4</th>\n",
              "      <td>23</td>\n",
              "      <td>31</td>\n",
              "      <td>30</td>\n",
              "      <td>38</td>\n",
              "      <td>10</td>\n",
              "      <td>13</td>\n",
              "      <td>72</td>\n",
              "      <td>4</td>\n",
              "      <td>8</td>\n",
              "      <td>5</td>\n",
              "      <td>...</td>\n",
              "      <td>0</td>\n",
              "      <td>0</td>\n",
              "      <td>0</td>\n",
              "      <td>0</td>\n",
              "      <td>0</td>\n",
              "      <td>0</td>\n",
              "      <td>0</td>\n",
              "      <td>0</td>\n",
              "      <td>0</td>\n",
              "      <td>0</td>\n",
              "    </tr>\n",
              "    <tr>\n",
              "      <th>...</th>\n",
              "      <td>...</td>\n",
              "      <td>...</td>\n",
              "      <td>...</td>\n",
              "      <td>...</td>\n",
              "      <td>...</td>\n",
              "      <td>...</td>\n",
              "      <td>...</td>\n",
              "      <td>...</td>\n",
              "      <td>...</td>\n",
              "      <td>...</td>\n",
              "      <td>...</td>\n",
              "      <td>...</td>\n",
              "      <td>...</td>\n",
              "      <td>...</td>\n",
              "      <td>...</td>\n",
              "      <td>...</td>\n",
              "      <td>...</td>\n",
              "      <td>...</td>\n",
              "      <td>...</td>\n",
              "      <td>...</td>\n",
              "      <td>...</td>\n",
              "    </tr>\n",
              "    <tr>\n",
              "      <th>702</th>\n",
              "      <td>17</td>\n",
              "      <td>32</td>\n",
              "      <td>18</td>\n",
              "      <td>11</td>\n",
              "      <td>7</td>\n",
              "      <td>40</td>\n",
              "      <td>60</td>\n",
              "      <td>2</td>\n",
              "      <td>6</td>\n",
              "      <td>1</td>\n",
              "      <td>...</td>\n",
              "      <td>0</td>\n",
              "      <td>0</td>\n",
              "      <td>0</td>\n",
              "      <td>0</td>\n",
              "      <td>1</td>\n",
              "      <td>0</td>\n",
              "      <td>0</td>\n",
              "      <td>0</td>\n",
              "      <td>0</td>\n",
              "      <td>0</td>\n",
              "    </tr>\n",
              "    <tr>\n",
              "      <th>703</th>\n",
              "      <td>7</td>\n",
              "      <td>22</td>\n",
              "      <td>25</td>\n",
              "      <td>33</td>\n",
              "      <td>8</td>\n",
              "      <td>29</td>\n",
              "      <td>71</td>\n",
              "      <td>3</td>\n",
              "      <td>5</td>\n",
              "      <td>0</td>\n",
              "      <td>...</td>\n",
              "      <td>0</td>\n",
              "      <td>0</td>\n",
              "      <td>0</td>\n",
              "      <td>0</td>\n",
              "      <td>1</td>\n",
              "      <td>0</td>\n",
              "      <td>0</td>\n",
              "      <td>0</td>\n",
              "      <td>0</td>\n",
              "      <td>0</td>\n",
              "    </tr>\n",
              "    <tr>\n",
              "      <th>704</th>\n",
              "      <td>35</td>\n",
              "      <td>5</td>\n",
              "      <td>13</td>\n",
              "      <td>20</td>\n",
              "      <td>17</td>\n",
              "      <td>45</td>\n",
              "      <td>55</td>\n",
              "      <td>3</td>\n",
              "      <td>5</td>\n",
              "      <td>1</td>\n",
              "      <td>...</td>\n",
              "      <td>0</td>\n",
              "      <td>0</td>\n",
              "      <td>0</td>\n",
              "      <td>0</td>\n",
              "      <td>1</td>\n",
              "      <td>0</td>\n",
              "      <td>0</td>\n",
              "      <td>0</td>\n",
              "      <td>0</td>\n",
              "      <td>0</td>\n",
              "    </tr>\n",
              "    <tr>\n",
              "      <th>705</th>\n",
              "      <td>16</td>\n",
              "      <td>28</td>\n",
              "      <td>6</td>\n",
              "      <td>7</td>\n",
              "      <td>18</td>\n",
              "      <td>33</td>\n",
              "      <td>67</td>\n",
              "      <td>3</td>\n",
              "      <td>4</td>\n",
              "      <td>1</td>\n",
              "      <td>...</td>\n",
              "      <td>0</td>\n",
              "      <td>0</td>\n",
              "      <td>0</td>\n",
              "      <td>0</td>\n",
              "      <td>0</td>\n",
              "      <td>0</td>\n",
              "      <td>0</td>\n",
              "      <td>0</td>\n",
              "      <td>0</td>\n",
              "      <td>0</td>\n",
              "    </tr>\n",
              "    <tr>\n",
              "      <th>706</th>\n",
              "      <td>18</td>\n",
              "      <td>12</td>\n",
              "      <td>10</td>\n",
              "      <td>28</td>\n",
              "      <td>22</td>\n",
              "      <td>31</td>\n",
              "      <td>55</td>\n",
              "      <td>5</td>\n",
              "      <td>3</td>\n",
              "      <td>1</td>\n",
              "      <td>...</td>\n",
              "      <td>0</td>\n",
              "      <td>0</td>\n",
              "      <td>0</td>\n",
              "      <td>0</td>\n",
              "      <td>0</td>\n",
              "      <td>0</td>\n",
              "      <td>0</td>\n",
              "      <td>0</td>\n",
              "      <td>0</td>\n",
              "      <td>0</td>\n",
              "    </tr>\n",
              "  </tbody>\n",
              "</table>\n",
              "<p>707 rows × 33 columns</p>\n",
              "</div>\n",
              "    <div class=\"colab-df-buttons\">\n",
              "\n",
              "  <div class=\"colab-df-container\">\n",
              "    <button class=\"colab-df-convert\" onclick=\"convertToInteractive('df-3423a5a3-c7cc-4f00-a21f-b29f29525cd3')\"\n",
              "            title=\"Convert this dataframe to an interactive table.\"\n",
              "            style=\"display:none;\">\n",
              "\n",
              "  <svg xmlns=\"http://www.w3.org/2000/svg\" height=\"24px\" viewBox=\"0 -960 960 960\">\n",
              "    <path d=\"M120-120v-720h720v720H120Zm60-500h600v-160H180v160Zm220 220h160v-160H400v160Zm0 220h160v-160H400v160ZM180-400h160v-160H180v160Zm440 0h160v-160H620v160ZM180-180h160v-160H180v160Zm440 0h160v-160H620v160Z\"/>\n",
              "  </svg>\n",
              "    </button>\n",
              "\n",
              "  <style>\n",
              "    .colab-df-container {\n",
              "      display:flex;\n",
              "      gap: 12px;\n",
              "    }\n",
              "\n",
              "    .colab-df-convert {\n",
              "      background-color: #E8F0FE;\n",
              "      border: none;\n",
              "      border-radius: 50%;\n",
              "      cursor: pointer;\n",
              "      display: none;\n",
              "      fill: #1967D2;\n",
              "      height: 32px;\n",
              "      padding: 0 0 0 0;\n",
              "      width: 32px;\n",
              "    }\n",
              "\n",
              "    .colab-df-convert:hover {\n",
              "      background-color: #E2EBFA;\n",
              "      box-shadow: 0px 1px 2px rgba(60, 64, 67, 0.3), 0px 1px 3px 1px rgba(60, 64, 67, 0.15);\n",
              "      fill: #174EA6;\n",
              "    }\n",
              "\n",
              "    .colab-df-buttons div {\n",
              "      margin-bottom: 4px;\n",
              "    }\n",
              "\n",
              "    [theme=dark] .colab-df-convert {\n",
              "      background-color: #3B4455;\n",
              "      fill: #D2E3FC;\n",
              "    }\n",
              "\n",
              "    [theme=dark] .colab-df-convert:hover {\n",
              "      background-color: #434B5C;\n",
              "      box-shadow: 0px 1px 3px 1px rgba(0, 0, 0, 0.15);\n",
              "      filter: drop-shadow(0px 1px 2px rgba(0, 0, 0, 0.3));\n",
              "      fill: #FFFFFF;\n",
              "    }\n",
              "  </style>\n",
              "\n",
              "    <script>\n",
              "      const buttonEl =\n",
              "        document.querySelector('#df-3423a5a3-c7cc-4f00-a21f-b29f29525cd3 button.colab-df-convert');\n",
              "      buttonEl.style.display =\n",
              "        google.colab.kernel.accessAllowed ? 'block' : 'none';\n",
              "\n",
              "      async function convertToInteractive(key) {\n",
              "        const element = document.querySelector('#df-3423a5a3-c7cc-4f00-a21f-b29f29525cd3');\n",
              "        const dataTable =\n",
              "          await google.colab.kernel.invokeFunction('convertToInteractive',\n",
              "                                                    [key], {});\n",
              "        if (!dataTable) return;\n",
              "\n",
              "        const docLinkHtml = 'Like what you see? Visit the ' +\n",
              "          '<a target=\"_blank\" href=https://colab.research.google.com/notebooks/data_table.ipynb>data table notebook</a>'\n",
              "          + ' to learn more about interactive tables.';\n",
              "        element.innerHTML = '';\n",
              "        dataTable['output_type'] = 'display_data';\n",
              "        await google.colab.output.renderOutput(dataTable, element);\n",
              "        const docLink = document.createElement('div');\n",
              "        docLink.innerHTML = docLinkHtml;\n",
              "        element.appendChild(docLink);\n",
              "      }\n",
              "    </script>\n",
              "  </div>\n",
              "\n",
              "\n",
              "<div id=\"df-a2cc533a-b1ee-4609-8275-2cdd4c04e329\">\n",
              "  <button class=\"colab-df-quickchart\" onclick=\"quickchart('df-a2cc533a-b1ee-4609-8275-2cdd4c04e329')\"\n",
              "            title=\"Suggest charts\"\n",
              "            style=\"display:none;\">\n",
              "\n",
              "<svg xmlns=\"http://www.w3.org/2000/svg\" height=\"24px\"viewBox=\"0 0 24 24\"\n",
              "     width=\"24px\">\n",
              "    <g>\n",
              "        <path d=\"M19 3H5c-1.1 0-2 .9-2 2v14c0 1.1.9 2 2 2h14c1.1 0 2-.9 2-2V5c0-1.1-.9-2-2-2zM9 17H7v-7h2v7zm4 0h-2V7h2v10zm4 0h-2v-4h2v4z\"/>\n",
              "    </g>\n",
              "</svg>\n",
              "  </button>\n",
              "\n",
              "<style>\n",
              "  .colab-df-quickchart {\n",
              "      --bg-color: #E8F0FE;\n",
              "      --fill-color: #1967D2;\n",
              "      --hover-bg-color: #E2EBFA;\n",
              "      --hover-fill-color: #174EA6;\n",
              "      --disabled-fill-color: #AAA;\n",
              "      --disabled-bg-color: #DDD;\n",
              "  }\n",
              "\n",
              "  [theme=dark] .colab-df-quickchart {\n",
              "      --bg-color: #3B4455;\n",
              "      --fill-color: #D2E3FC;\n",
              "      --hover-bg-color: #434B5C;\n",
              "      --hover-fill-color: #FFFFFF;\n",
              "      --disabled-bg-color: #3B4455;\n",
              "      --disabled-fill-color: #666;\n",
              "  }\n",
              "\n",
              "  .colab-df-quickchart {\n",
              "    background-color: var(--bg-color);\n",
              "    border: none;\n",
              "    border-radius: 50%;\n",
              "    cursor: pointer;\n",
              "    display: none;\n",
              "    fill: var(--fill-color);\n",
              "    height: 32px;\n",
              "    padding: 0;\n",
              "    width: 32px;\n",
              "  }\n",
              "\n",
              "  .colab-df-quickchart:hover {\n",
              "    background-color: var(--hover-bg-color);\n",
              "    box-shadow: 0 1px 2px rgba(60, 64, 67, 0.3), 0 1px 3px 1px rgba(60, 64, 67, 0.15);\n",
              "    fill: var(--button-hover-fill-color);\n",
              "  }\n",
              "\n",
              "  .colab-df-quickchart-complete:disabled,\n",
              "  .colab-df-quickchart-complete:disabled:hover {\n",
              "    background-color: var(--disabled-bg-color);\n",
              "    fill: var(--disabled-fill-color);\n",
              "    box-shadow: none;\n",
              "  }\n",
              "\n",
              "  .colab-df-spinner {\n",
              "    border: 2px solid var(--fill-color);\n",
              "    border-color: transparent;\n",
              "    border-bottom-color: var(--fill-color);\n",
              "    animation:\n",
              "      spin 1s steps(1) infinite;\n",
              "  }\n",
              "\n",
              "  @keyframes spin {\n",
              "    0% {\n",
              "      border-color: transparent;\n",
              "      border-bottom-color: var(--fill-color);\n",
              "      border-left-color: var(--fill-color);\n",
              "    }\n",
              "    20% {\n",
              "      border-color: transparent;\n",
              "      border-left-color: var(--fill-color);\n",
              "      border-top-color: var(--fill-color);\n",
              "    }\n",
              "    30% {\n",
              "      border-color: transparent;\n",
              "      border-left-color: var(--fill-color);\n",
              "      border-top-color: var(--fill-color);\n",
              "      border-right-color: var(--fill-color);\n",
              "    }\n",
              "    40% {\n",
              "      border-color: transparent;\n",
              "      border-right-color: var(--fill-color);\n",
              "      border-top-color: var(--fill-color);\n",
              "    }\n",
              "    60% {\n",
              "      border-color: transparent;\n",
              "      border-right-color: var(--fill-color);\n",
              "    }\n",
              "    80% {\n",
              "      border-color: transparent;\n",
              "      border-right-color: var(--fill-color);\n",
              "      border-bottom-color: var(--fill-color);\n",
              "    }\n",
              "    90% {\n",
              "      border-color: transparent;\n",
              "      border-bottom-color: var(--fill-color);\n",
              "    }\n",
              "  }\n",
              "</style>\n",
              "\n",
              "  <script>\n",
              "    async function quickchart(key) {\n",
              "      const quickchartButtonEl =\n",
              "        document.querySelector('#' + key + ' button');\n",
              "      quickchartButtonEl.disabled = true;  // To prevent multiple clicks.\n",
              "      quickchartButtonEl.classList.add('colab-df-spinner');\n",
              "      try {\n",
              "        const charts = await google.colab.kernel.invokeFunction(\n",
              "            'suggestCharts', [key], {});\n",
              "      } catch (error) {\n",
              "        console.error('Error during call to suggestCharts:', error);\n",
              "      }\n",
              "      quickchartButtonEl.classList.remove('colab-df-spinner');\n",
              "      quickchartButtonEl.classList.add('colab-df-quickchart-complete');\n",
              "    }\n",
              "    (() => {\n",
              "      let quickchartButtonEl =\n",
              "        document.querySelector('#df-a2cc533a-b1ee-4609-8275-2cdd4c04e329 button');\n",
              "      quickchartButtonEl.style.display =\n",
              "        google.colab.kernel.accessAllowed ? 'block' : 'none';\n",
              "    })();\n",
              "  </script>\n",
              "</div>\n",
              "\n",
              "  <div id=\"id_6fbbec32-b67f-4a69-b159-e866cdc42e8a\">\n",
              "    <style>\n",
              "      .colab-df-generate {\n",
              "        background-color: #E8F0FE;\n",
              "        border: none;\n",
              "        border-radius: 50%;\n",
              "        cursor: pointer;\n",
              "        display: none;\n",
              "        fill: #1967D2;\n",
              "        height: 32px;\n",
              "        padding: 0 0 0 0;\n",
              "        width: 32px;\n",
              "      }\n",
              "\n",
              "      .colab-df-generate:hover {\n",
              "        background-color: #E2EBFA;\n",
              "        box-shadow: 0px 1px 2px rgba(60, 64, 67, 0.3), 0px 1px 3px 1px rgba(60, 64, 67, 0.15);\n",
              "        fill: #174EA6;\n",
              "      }\n",
              "\n",
              "      [theme=dark] .colab-df-generate {\n",
              "        background-color: #3B4455;\n",
              "        fill: #D2E3FC;\n",
              "      }\n",
              "\n",
              "      [theme=dark] .colab-df-generate:hover {\n",
              "        background-color: #434B5C;\n",
              "        box-shadow: 0px 1px 3px 1px rgba(0, 0, 0, 0.15);\n",
              "        filter: drop-shadow(0px 1px 2px rgba(0, 0, 0, 0.3));\n",
              "        fill: #FFFFFF;\n",
              "      }\n",
              "    </style>\n",
              "    <button class=\"colab-df-generate\" onclick=\"generateWithVariable('X_encoded')\"\n",
              "            title=\"Generate code using this dataframe.\"\n",
              "            style=\"display:none;\">\n",
              "\n",
              "  <svg xmlns=\"http://www.w3.org/2000/svg\" height=\"24px\"viewBox=\"0 0 24 24\"\n",
              "       width=\"24px\">\n",
              "    <path d=\"M7,19H8.4L18.45,9,17,7.55,7,17.6ZM5,21V16.75L18.45,3.32a2,2,0,0,1,2.83,0l1.4,1.43a1.91,1.91,0,0,1,.58,1.4,1.91,1.91,0,0,1-.58,1.4L9.25,21ZM18.45,9,17,7.55Zm-12,3A5.31,5.31,0,0,0,4.9,8.1,5.31,5.31,0,0,0,1,6.5,5.31,5.31,0,0,0,4.9,4.9,5.31,5.31,0,0,0,6.5,1,5.31,5.31,0,0,0,8.1,4.9,5.31,5.31,0,0,0,12,6.5,5.46,5.46,0,0,0,6.5,12Z\"/>\n",
              "  </svg>\n",
              "    </button>\n",
              "    <script>\n",
              "      (() => {\n",
              "      const buttonEl =\n",
              "        document.querySelector('#id_6fbbec32-b67f-4a69-b159-e866cdc42e8a button.colab-df-generate');\n",
              "      buttonEl.style.display =\n",
              "        google.colab.kernel.accessAllowed ? 'block' : 'none';\n",
              "\n",
              "      buttonEl.onclick = () => {\n",
              "        google.colab.notebook.generateWithVariable('X_encoded');\n",
              "      }\n",
              "      })();\n",
              "    </script>\n",
              "  </div>\n",
              "\n",
              "    </div>\n",
              "  </div>\n"
            ],
            "text/plain": [
              "     DSA  DBMS  OS  CN  Mathmetics  Aptitute  Comm  Problem Solving  Creative  \\\n",
              "0     49    22  41  26           7        28    61                1         8   \n",
              "1     39    46  45  47           3        35    65                4        10   \n",
              "2     28    32  45  35          10        23    85                3        10   \n",
              "3     52    38  33  38          19        27    62                1         9   \n",
              "4     23    31  30  38          10        13    72                4         8   \n",
              "..   ...   ...  ..  ..         ...       ...   ...              ...       ...   \n",
              "702   17    32  18  11           7        40    60                2         6   \n",
              "703    7    22  25  33           8        29    71                3         5   \n",
              "704   35     5  13  20          17        45    55                3         5   \n",
              "705   16    28   6   7          18        33    67                3         4   \n",
              "706   18    12  10  28          22        31    55                5         3   \n",
              "\n",
              "     Hackathons  ...  Skill_Machine Learning  Skill_Node.js  Skill_Oracle  \\\n",
              "0             3  ...                       0              0             0   \n",
              "1             4  ...                       0              0             0   \n",
              "2             3  ...                       0              0             0   \n",
              "3             3  ...                       0              0             0   \n",
              "4             5  ...                       0              0             0   \n",
              "..          ...  ...                     ...            ...           ...   \n",
              "702           1  ...                       0              0             0   \n",
              "703           0  ...                       0              0             0   \n",
              "704           1  ...                       0              0             0   \n",
              "705           1  ...                       0              0             0   \n",
              "706           1  ...                       0              0             0   \n",
              "\n",
              "     Skill_Photoshop  Skill_Python  Skill_Pytorch  Skill_R  Skill_React  \\\n",
              "0                  0             0              0        0            0   \n",
              "1                  0             0              0        0            0   \n",
              "2                  1             0              0        0            0   \n",
              "3                  1             0              0        0            0   \n",
              "4                  0             0              0        0            0   \n",
              "..               ...           ...            ...      ...          ...   \n",
              "702                0             1              0        0            0   \n",
              "703                0             1              0        0            0   \n",
              "704                0             1              0        0            0   \n",
              "705                0             0              0        0            0   \n",
              "706                0             0              0        0            0   \n",
              "\n",
              "     Skill_Tensorflow  Skill_Wire Shark  \n",
              "0                   0                 0  \n",
              "1                   0                 0  \n",
              "2                   0                 0  \n",
              "3                   0                 0  \n",
              "4                   0                 0  \n",
              "..                ...               ...  \n",
              "702                 0                 0  \n",
              "703                 0                 0  \n",
              "704                 0                 0  \n",
              "705                 0                 0  \n",
              "706                 0                 0  \n",
              "\n",
              "[707 rows x 33 columns]"
            ]
          },
          "execution_count": 11,
          "metadata": {},
          "output_type": "execute_result"
        }
      ],
      "source": [
        "# One-hot encode categorical columns\n",
        "X_encoded = pd.get_dummies(X, columns=['Skill'])\n",
        "X_encoded"
      ]
    },
    {
      "cell_type": "code",
      "execution_count": 21,
      "id": "f874fe63",
      "metadata": {
        "id": "f874fe63"
      },
      "outputs": [],
      "source": [
        "# Split the data into training and testing sets\n",
        "X_train, X_test, y_train, y_test = train_test_split(X_encoded, y, test_size=0.4, random_state=42)\n",
        "\n",
        "# Initialize the KNeighborsClassifier\n",
        "knn_classifier = KNeighborsClassifier(n_neighbors=3)  # You can adjust the 'n_neighbors' parameter\n",
        "\n",
        "# Fit the model to the training data\n",
        "knn_classifier.fit(X_train, y_train)\n",
        "\n",
        "# Make predictions on the test set\n",
        "y_pred = knn_classifier.predict(X_test)\n",
        "\n",
        "# Evaluate the model\n",
        "Knn_accuracy = accuracy_score(y_test, y_pred)\n",
        "classification_report_result = classification_report(y_test, y_pred)\n"
      ]
    },
    {
      "cell_type": "markdown",
      "id": "bffd4f54",
      "metadata": {
        "id": "bffd4f54"
      },
      "source": [
        "## CONFUSION MATRIX - KNN"
      ]
    },
    {
      "cell_type": "code",
      "execution_count": 22,
      "id": "7LrFtVa6EOWR",
      "metadata": {
        "colab": {
          "base_uri": "https://localhost:8080/"
        },
        "id": "7LrFtVa6EOWR",
        "outputId": "d5b3389f-106f-432d-dde3-93d405899985"
      },
      "outputs": [
        {
          "name": "stdout",
          "output_type": "stream",
          "text": [
            "[[46  0  0  0  0  0  0]\n",
            " [ 0 33  0  0  0  0  0]\n",
            " [ 0  0 35  0  0  0  0]\n",
            " [ 0  0  0 44  0  0  0]\n",
            " [ 0  0  0  0 34  1  0]\n",
            " [ 0  0  0  0  4 49  0]\n",
            " [ 0  0  0  0  0  0 37]]\n"
          ]
        }
      ],
      "source": [
        "# gives the confusion matrix\n",
        "conf = metrics.confusion_matrix(y_test, y_pred)\n",
        "print(conf)"
      ]
    },
    {
      "cell_type": "markdown",
      "id": "e1558fef",
      "metadata": {
        "id": "e1558fef"
      },
      "source": [
        "## CLASSIFICATION REPORT - KNN"
      ]
    },
    {
      "cell_type": "code",
      "execution_count": 23,
      "id": "2ab9aea4",
      "metadata": {
        "colab": {
          "base_uri": "https://localhost:8080/"
        },
        "id": "2ab9aea4",
        "outputId": "012f6d97-febf-4058-8d51-6a41645d4dae"
      },
      "outputs": [
        {
          "name": "stdout",
          "output_type": "stream",
          "text": [
            "Classification Report:\n",
            "                         precision    recall  f1-score   support\n",
            "\n",
            "        DATA Scientist       1.00      1.00      1.00        46\n",
            "Database Administrator       1.00      1.00      1.00        33\n",
            "      Network Engineer       1.00      1.00      1.00        35\n",
            "     Software Engineer       1.00      1.00      1.00        44\n",
            "          Tech Support       0.89      0.97      0.93        35\n",
            "                 UI/UX       0.98      0.92      0.95        53\n",
            "         Web Developer       1.00      1.00      1.00        37\n",
            "\n",
            "              accuracy                           0.98       283\n",
            "             macro avg       0.98      0.99      0.98       283\n",
            "          weighted avg       0.98      0.98      0.98       283\n",
            "\n"
          ]
        }
      ],
      "source": [
        "# classification report\n",
        "print(\"Classification Report:\\n\", classification_report_result)"
      ]
    },
    {
      "cell_type": "markdown",
      "id": "38f1e617",
      "metadata": {
        "id": "38f1e617"
      },
      "source": [
        "## ACCURACY AND TIME - KNN"
      ]
    },
    {
      "cell_type": "code",
      "execution_count": 24,
      "id": "6d3d3a6b",
      "metadata": {
        "colab": {
          "base_uri": "https://localhost:8080/"
        },
        "id": "6d3d3a6b",
        "outputId": "0821fbbd-d573-428d-9b81-234277094474"
      },
      "outputs": [
        {
          "name": "stdout",
          "output_type": "stream",
          "text": [
            "Accuracy: 0.9823321554770318\n",
            "The train time in seconds:  102.871139702\n"
          ]
        }
      ],
      "source": [
        "# Evaluate the model\n",
        "KNN_accuracy = accuracy_score(y_test, y_pred)\n",
        "classification_report_result = classification_report(y_test, y_pred)\n",
        "\n",
        "# Output the results\n",
        "print(f\"Accuracy: {KNN_accuracy}\")\n",
        "\n",
        "KNN_toc=timeit.default_timer() - tic # end timer after training\n",
        "print(\"The train time in seconds: \", KNN_toc)"
      ]
    },
    {
      "cell_type": "markdown",
      "id": "68a66cec",
      "metadata": {
        "id": "68a66cec"
      },
      "source": [
        "## SGD CLASSIFIER()\n",
        "SGD is an optimization algorithm used to minimize an objective function, such as the loss function in a machine learning model. It works by iteratively updating the parameters of the model in the direction that reduces the loss, typically by taking small steps proportional to the negative gradient of the loss function."
      ]
    },
    {
      "cell_type": "code",
      "execution_count": 25,
      "id": "c72ac0b6",
      "metadata": {
        "id": "c72ac0b6"
      },
      "outputs": [],
      "source": [
        "#imoorting all required modules\n",
        "import pandas as pd\n",
        "from sklearn.model_selection import train_test_split\n",
        "from sklearn.preprocessing import LabelEncoder, StandardScaler\n",
        "from sklearn.linear_model import SGDClassifier\n",
        "from sklearn.metrics import accuracy_score, classification_report\n",
        "tic=timeit.default_timer() # start timer before training\n",
        "\n",
        "\n",
        "# 'Profile' is the target variable and other columns are features\n",
        "X = df.drop(['Profile'], axis=1)  # Features\n",
        "y = df['Profile']  # Target variable\n",
        "\n",
        "X_encoded = pd.get_dummies(X, columns=['Skill'])\n",
        "\n"
      ]
    },
    {
      "cell_type": "code",
      "execution_count": 26,
      "id": "eb3fcdd1",
      "metadata": {
        "id": "eb3fcdd1"
      },
      "outputs": [],
      "source": [
        "# Standardize numerical features\n",
        "scaler = StandardScaler()\n",
        "X_standardized = pd.DataFrame(scaler.fit_transform(X_encoded), columns=X_encoded.columns)\n",
        "\n",
        "# Encode target variable 'Profile'\n",
        "le = LabelEncoder()\n",
        "y_encoded = le.fit_transform(y)"
      ]
    },
    {
      "cell_type": "code",
      "execution_count": 27,
      "id": "4638a942",
      "metadata": {
        "id": "4638a942"
      },
      "outputs": [],
      "source": [
        "# Split the data into training and testing sets\n",
        "X_train, X_test, y_train, y_test = train_test_split(X_standardized, y_encoded, test_size=0.4, random_state=82)\n",
        "\n",
        "# Initialize the SGDClassifier\n",
        "sgd_classifier = SGDClassifier(max_iter=1000, random_state=42)\n",
        "\n",
        "# Fit the model to the training data\n",
        "sgd_classifier.fit(X_train, y_train)\n",
        "\n",
        "# Make predictions on the test set\n",
        "y_pred = sgd_classifier.predict(X_test)\n",
        "\n",
        "# Evaluate the model\n",
        "SDG_accuracy = accuracy_score(y_test, y_pred)\n",
        "classification_report_result = classification_report(y_test, y_pred)"
      ]
    },
    {
      "cell_type": "markdown",
      "id": "0e793974",
      "metadata": {
        "id": "0e793974"
      },
      "source": [
        "## CONFUSION MATRIX - SGD"
      ]
    },
    {
      "cell_type": "code",
      "execution_count": 28,
      "id": "iYHrEn4NF7NY",
      "metadata": {
        "colab": {
          "base_uri": "https://localhost:8080/"
        },
        "id": "iYHrEn4NF7NY",
        "outputId": "fc1844ce-41ce-4114-a78c-4b3449c75fbd"
      },
      "outputs": [
        {
          "name": "stdout",
          "output_type": "stream",
          "text": [
            "[[41  0  0  0  0  0  0]\n",
            " [ 0 34  0  0  0  0  0]\n",
            " [ 0  0 42  0  0  0  0]\n",
            " [ 0  0  2 41  0  0  0]\n",
            " [ 0  0  0  0 39  0  0]\n",
            " [ 0  0  0  0  0 42  0]\n",
            " [ 0  0  0  0  0  0 42]]\n"
          ]
        }
      ],
      "source": [
        "# gives the confusion matrix\n",
        "conf = metrics.confusion_matrix(y_test, y_pred)\n",
        "print(conf)"
      ]
    },
    {
      "cell_type": "markdown",
      "id": "5c6cf34b",
      "metadata": {
        "id": "5c6cf34b"
      },
      "source": [
        "## CLASSIFICATION REPORT - SGD"
      ]
    },
    {
      "cell_type": "code",
      "execution_count": 29,
      "id": "becd1a3c",
      "metadata": {
        "colab": {
          "base_uri": "https://localhost:8080/"
        },
        "id": "becd1a3c",
        "outputId": "a82a31a4-b3c6-419d-e838-77c3374b33ca"
      },
      "outputs": [
        {
          "name": "stdout",
          "output_type": "stream",
          "text": [
            "Classification Report:\n",
            "               precision    recall  f1-score   support\n",
            "\n",
            "           0       1.00      1.00      1.00        41\n",
            "           1       1.00      1.00      1.00        34\n",
            "           2       0.95      1.00      0.98        42\n",
            "           3       1.00      0.95      0.98        43\n",
            "           4       1.00      1.00      1.00        39\n",
            "           5       1.00      1.00      1.00        42\n",
            "           6       1.00      1.00      1.00        42\n",
            "\n",
            "    accuracy                           0.99       283\n",
            "   macro avg       0.99      0.99      0.99       283\n",
            "weighted avg       0.99      0.99      0.99       283\n",
            "\n"
          ]
        }
      ],
      "source": [
        "# Output classification results\n",
        "print(\"Classification Report:\\n\", classification_report_result)"
      ]
    },
    {
      "cell_type": "markdown",
      "id": "00be61ad",
      "metadata": {
        "id": "00be61ad"
      },
      "source": [
        "## ACCURACY AND TIME - SGD"
      ]
    },
    {
      "cell_type": "code",
      "execution_count": 30,
      "id": "fc80acc4",
      "metadata": {
        "colab": {
          "base_uri": "https://localhost:8080/"
        },
        "id": "fc80acc4",
        "outputId": "4ac4e767-53b2-4bdd-f22d-596e3f5c96a5"
      },
      "outputs": [
        {
          "name": "stdout",
          "output_type": "stream",
          "text": [
            "Accuracy: 0.9929328621908127\n",
            "The train time in seconds:  12.865021911999975\n"
          ]
        }
      ],
      "source": [
        "print(f\"Accuracy: {SDG_accuracy}\")\n",
        "SGD_toc=timeit.default_timer() - tic # end timer after training\n",
        "\n",
        "print(\"The train time in seconds: \", SGD_toc)"
      ]
    },
    {
      "cell_type": "markdown",
      "id": "e687b4e5",
      "metadata": {
        "id": "e687b4e5"
      },
      "source": [
        "## STEP3-DECISION TREE CLASSIFIER\n",
        "A Decision Tree Classifier is a specific implementation of the Decision Tree algorithm tailored for classification tasks. It builds a tree structure to classify instances into multiple classes based on their features. Here's how it works"
      ]
    },
    {
      "cell_type": "code",
      "execution_count": 31,
      "id": "9258bb1c",
      "metadata": {
        "id": "9258bb1c"
      },
      "outputs": [],
      "source": [
        "import pandas as pd\n",
        "from sklearn.model_selection import train_test_split\n",
        "from sklearn.tree import DecisionTreeClassifier\n",
        "from sklearn.metrics import accuracy_score, classification_report\n",
        "tic=timeit.default_timer() # start timer before training\n",
        "\n",
        "#'Profile' is the target variable and other columns are features\n",
        "X = df.drop(['Profile'], axis=1)  # Features\n",
        "y = df['Profile']  # Target variable\n",
        "\n",
        "# Drop non-numeric columns for simplicity (adjust as needed)\n",
        "#X_numeric = X.select_dtypes(include='number')\n",
        "X_encoded = pd.get_dummies(X, columns=['Skill'])"
      ]
    },
    {
      "cell_type": "code",
      "execution_count": 32,
      "id": "007acc27",
      "metadata": {
        "id": "007acc27"
      },
      "outputs": [],
      "source": [
        "# Split the data into training and testing sets\n",
        "X_train, X_test, y_train, y_test = train_test_split(X_encoded, y, test_size=0.4, random_state=78)\n",
        "\n",
        "# Initialize the DecisionTreeClassifier\n",
        "tree_classifier = DecisionTreeClassifier(random_state=42)\n",
        "\n",
        "# Fit the model to the training data\n",
        "tree_classifier.fit(X_train, y_train)\n",
        "\n",
        "# Make predictions on the test set\n",
        "y_pred = tree_classifier.predict(X_test)\n",
        "\n",
        "# Evaluate the model\n",
        "DCT_accuracy = accuracy_score(y_test, y_pred)\n",
        "classification_report_result = classification_report(y_test, y_pred)"
      ]
    },
    {
      "cell_type": "markdown",
      "id": "b3dd5d7f",
      "metadata": {
        "id": "b3dd5d7f"
      },
      "source": [
        "## CONFUSION MATRIX - DCT"
      ]
    },
    {
      "cell_type": "code",
      "execution_count": 33,
      "id": "CS-nPmY0GFeH",
      "metadata": {
        "colab": {
          "base_uri": "https://localhost:8080/"
        },
        "id": "CS-nPmY0GFeH",
        "outputId": "0b41367f-fc39-4235-9df7-f969c95a5429"
      },
      "outputs": [
        {
          "name": "stdout",
          "output_type": "stream",
          "text": [
            "[[41  0  0  0  0  0  0]\n",
            " [ 0 45  0  0  0  0  0]\n",
            " [ 0  0 35  0  0  0  0]\n",
            " [ 0  0  0 41  0  0  0]\n",
            " [ 0  0  0  0 42  0  0]\n",
            " [ 0  0  0  0  0 41  0]\n",
            " [ 0  0  0  0  0  0 38]]\n"
          ]
        }
      ],
      "source": [
        "# gives the confusion matrix\n",
        "conf = metrics.confusion_matrix(y_test, y_pred)\n",
        "print(conf)"
      ]
    },
    {
      "cell_type": "markdown",
      "id": "d2aac041",
      "metadata": {
        "id": "d2aac041"
      },
      "source": [
        "## CLASSIFICATION REPORT - DCT"
      ]
    },
    {
      "cell_type": "code",
      "execution_count": 34,
      "id": "54b1a4be",
      "metadata": {
        "colab": {
          "base_uri": "https://localhost:8080/"
        },
        "id": "54b1a4be",
        "outputId": "9e470a3d-ac82-48dc-9165-3cfac56bc72d"
      },
      "outputs": [
        {
          "name": "stdout",
          "output_type": "stream",
          "text": [
            "Classification Report:\n",
            "                         precision    recall  f1-score   support\n",
            "\n",
            "        DATA Scientist       1.00      1.00      1.00        41\n",
            "Database Administrator       1.00      1.00      1.00        45\n",
            "      Network Engineer       1.00      1.00      1.00        35\n",
            "     Software Engineer       1.00      1.00      1.00        41\n",
            "          Tech Support       1.00      1.00      1.00        42\n",
            "                 UI/UX       1.00      1.00      1.00        41\n",
            "         Web Developer       1.00      1.00      1.00        38\n",
            "\n",
            "              accuracy                           1.00       283\n",
            "             macro avg       1.00      1.00      1.00       283\n",
            "          weighted avg       1.00      1.00      1.00       283\n",
            "\n"
          ]
        }
      ],
      "source": [
        "# Output the results\n",
        "print(\"Classification Report:\\n\", classification_report_result)"
      ]
    },
    {
      "cell_type": "markdown",
      "id": "bd5ca9f9",
      "metadata": {
        "id": "bd5ca9f9"
      },
      "source": [
        "## ACCURACY AND TIME - DCT"
      ]
    },
    {
      "cell_type": "code",
      "execution_count": 35,
      "id": "cb54335d",
      "metadata": {
        "colab": {
          "base_uri": "https://localhost:8080/"
        },
        "id": "cb54335d",
        "outputId": "c015c6af-42e3-4a2f-d668-6f4ba51d7803"
      },
      "outputs": [
        {
          "name": "stdout",
          "output_type": "stream",
          "text": [
            "Accuracy: 1.0\n",
            "The train time in seconds:  9.992431327999952\n"
          ]
        }
      ],
      "source": [
        "DCT_toc=timeit.default_timer() - tic # end timer after training\n",
        "print(f\"Accuracy: {DCT_accuracy}\")\n",
        "print(\"The train time in seconds: \", DCT_toc)"
      ]
    },
    {
      "cell_type": "code",
      "execution_count": 36,
      "id": "a5072546",
      "metadata": {
        "colab": {
          "base_uri": "https://localhost:8080/",
          "height": 573
        },
        "id": "a5072546",
        "outputId": "eb8f9ed4-a9f9-4aa6-aaaa-90a44a8744c0",
        "scrolled": true
      },
      "outputs": [
        {
          "data": {
            "image/png": "[encoded data removed]",
            "text/plain": [
              "<Figure size 2000x1000 with 1 Axes>"
            ]
          },
          "metadata": {},
          "output_type": "display_data"
        }
      ],
      "source": [
        "from sklearn.tree import plot_tree, DecisionTreeClassifier\n",
        "import matplotlib.pyplot as plt\n",
        "\n",
        "# Defining the feature names\n",
        "feature_names = ['DSA',\n",
        " 'DBMS',\n",
        " 'OS',\n",
        " 'CN',\n",
        " 'Mathmetics',\n",
        " 'Aptitute',\n",
        " 'Comm',\n",
        " 'Problem Solving',\n",
        " 'Creative',\n",
        " 'Hackathons',\n",
        " 'Skill_Angular',\n",
        " 'Skill_Ansible',\n",
        " 'Skill_BASH/SHELL',\n",
        " 'Skill_C/C++',\n",
        " 'Skill_Cisco Packet tracer',\n",
        " 'Skill_Deep Learning',\n",
        " 'Skill_Figma',\n",
        " 'Skill_GitHub',\n",
        " 'Skill_HTML/CSS',\n",
        " 'Skill_Java',\n",
        " 'Skill_Javascript',\n",
        " 'Skill_Linux',\n",
        " 'Skill_MYSQL',\n",
        " 'Skill_Machine Learning',\n",
        " 'Skill_Node.js',\n",
        " 'Skill_Oracle',\n",
        " 'Skill_Photoshop',\n",
        " 'Skill_Python',\n",
        " 'Skill_Pytorch',\n",
        " 'Skill_R',\n",
        " 'Skill_React',\n",
        " 'Skill_Tensorflow',\n",
        " 'Skill_Wire Shark']\n",
        "\n",
        "dct_classifier = DecisionTreeClassifier()\n",
        "dct_classifier.fit(X_train, y_train)\n",
        "\n",
        "\n",
        "# Plotting the decision tree\n",
        "plt.figure(figsize=(20, 10))\n",
        "decision_tree_plot = plot_tree(dct_classifier,\n",
        "                               feature_names=feature_names,\n",
        "                               filled=True, rounded=True,\n",
        "                               fontsize=14)\n",
        "plt.show()"
      ]
    },
    {
      "cell_type": "markdown",
      "id": "1f78af85",
      "metadata": {
        "id": "1f78af85"
      },
      "source": [
        "## RANDOM FOREST CLASSIFIER"
      ]
    },
    {
      "cell_type": "code",
      "execution_count": 37,
      "id": "e11719ee",
      "metadata": {
        "colab": {
          "base_uri": "https://localhost:8080/"
        },
        "id": "e11719ee",
        "outputId": "cfb83728-1f36-470c-ac08-1085cc176100"
      },
      "outputs": [
        {
          "name": "stdout",
          "output_type": "stream",
          "text": [
            "[[41  0  0  0  0  0  0]\n",
            " [ 0 45  0  0  0  0  0]\n",
            " [ 0  0 35  0  0  0  0]\n",
            " [ 0  0  0 41  0  0  0]\n",
            " [ 0  0  0  0 42  0  0]\n",
            " [ 0  0  0  0  0 41  0]\n",
            " [ 0  0  0  0  0  0 38]]\n"
          ]
        }
      ],
      "source": [
        "from sklearn.ensemble import RandomForestClassifier\n",
        "# grow a random forest with 500 trees and 3 randomly chosen attributes\n",
        "rf_classifier = RandomForestClassifier(n_estimators=500, criterion='gini', max_features= 3, bootstrap=True, oob_score=True)\n",
        "rf_tic = timeit.default_timer()\n",
        "rf_classifier.fit(X_train, y_train)\n",
        "rf_toc = timeit.default_timer() - rf_tic\n",
        "rf_y_pred = rf_classifier.predict(X_test)\n",
        "\n",
        "# gives the confusion matrix\n",
        "conf = metrics.confusion_matrix(y_test, rf_y_pred)\n",
        "print(conf)\n",
        "RF_accuracy = accuracy_score(y_test, rf_y_pred)\n",
        "\n",
        "classification_report_result = classification_report(y_test, rf_y_pred )"
      ]
    },
    {
      "cell_type": "markdown",
      "id": "37ec64ea",
      "metadata": {
        "id": "37ec64ea"
      },
      "source": [
        "## CLASSIFICATION REPORT -  RANDOM FOREST"
      ]
    },
    {
      "cell_type": "code",
      "execution_count": 38,
      "id": "bec000fa",
      "metadata": {
        "colab": {
          "base_uri": "https://localhost:8080/"
        },
        "id": "bec000fa",
        "outputId": "74b3e86a-2cd1-4d3d-a985-f8d9f9d90f55"
      },
      "outputs": [
        {
          "name": "stdout",
          "output_type": "stream",
          "text": [
            "Classification Report:\n",
            "                         precision    recall  f1-score   support\n",
            "\n",
            "        DATA Scientist       1.00      1.00      1.00        41\n",
            "Database Administrator       1.00      1.00      1.00        45\n",
            "      Network Engineer       1.00      1.00      1.00        35\n",
            "     Software Engineer       1.00      1.00      1.00        41\n",
            "          Tech Support       1.00      1.00      1.00        42\n",
            "                 UI/UX       1.00      1.00      1.00        41\n",
            "         Web Developer       1.00      1.00      1.00        38\n",
            "\n",
            "              accuracy                           1.00       283\n",
            "             macro avg       1.00      1.00      1.00       283\n",
            "          weighted avg       1.00      1.00      1.00       283\n",
            "\n"
          ]
        }
      ],
      "source": [
        "print(\"Classification Report:\\n\", classification_report_result)"
      ]
    },
    {
      "cell_type": "markdown",
      "id": "37228411",
      "metadata": {
        "id": "37228411"
      },
      "source": [
        "## ACCURACY AND TIME"
      ]
    },
    {
      "cell_type": "code",
      "execution_count": 39,
      "id": "737b98e8",
      "metadata": {
        "colab": {
          "base_uri": "https://localhost:8080/"
        },
        "id": "737b98e8",
        "outputId": "5f89544f-c53f-4082-ef2c-de41c253c4b7"
      },
      "outputs": [
        {
          "name": "stdout",
          "output_type": "stream",
          "text": [
            "RF Accuracy:  1.0\n",
            "RF Time:  0.9796109350000393\n"
          ]
        }
      ],
      "source": [
        "print('RF Accuracy: ', RF_accuracy)\n",
        "print('RF Time: ', rf_toc)"
      ]
    },
    {
      "cell_type": "markdown",
      "id": "10e8249f",
      "metadata": {
        "id": "10e8249f"
      },
      "source": [
        "## STEP4-XGB CLASSIFIER"
      ]
    },
    {
      "cell_type": "code",
      "execution_count": 40,
      "id": "623a9051",
      "metadata": {
        "id": "623a9051"
      },
      "outputs": [],
      "source": [
        "from sklearn.preprocessing import LabelEncoder\n",
        "from sklearn.metrics import accuracy_score, classification_report\n",
        "from xgboost import XGBClassifier  # Import XGBoost classifier\n",
        "\n",
        "# Initialize LabelEncoder\n",
        "label_encoder = LabelEncoder()\n",
        "\n",
        "# Fit and transform the target variable\n",
        "y_train_encoded = label_encoder.fit_transform(y_train)\n",
        "\n",
        "# Use the same label encoder to transform the test data\n",
        "y_test_encoded = label_encoder.transform(y_test)\n",
        "\n",
        "# Initialize XGBoost classifier\n",
        "xgb_classifier = XGBClassifier()\n",
        "\n",
        "# Fit the classifier to the training data\n",
        "xgb_classifier.fit(X_train, y_train_encoded)\n",
        "\n",
        "# Predict on test data\n",
        "\n",
        "xgb_y_pred = xgb_classifier.predict(X_test)\n",
        "xgb_tic = timeit.default_timer()\n",
        "\n",
        "xgb_toc = timeit.default_timer() - xgb_tic\n"
      ]
    },
    {
      "cell_type": "markdown",
      "id": "ecd20bd7",
      "metadata": {
        "id": "ecd20bd7"
      },
      "source": [
        "## CONFUSION MATRIX - XGB CLASSIFIER"
      ]
    },
    {
      "cell_type": "code",
      "execution_count": 41,
      "id": "63b7f1d7",
      "metadata": {
        "colab": {
          "base_uri": "https://localhost:8080/"
        },
        "id": "63b7f1d7",
        "outputId": "7cea3672-ce78-4154-f59a-04f82173a986"
      },
      "outputs": [
        {
          "name": "stdout",
          "output_type": "stream",
          "text": [
            "Confusion Matrix:\n",
            "[[41  0  0  0  0  0  0]\n",
            " [ 0 45  0  0  0  0  0]\n",
            " [ 2  0 30  3  0  0  0]\n",
            " [ 0  0  0 41  0  0  0]\n",
            " [ 0  0  0  0 42  0  0]\n",
            " [ 0  0  0  0  0 41  0]\n",
            " [ 0  0  0  0  0  0 38]]\n"
          ]
        }
      ],
      "source": [
        "# Calculate confusion matrix\n",
        "conf = confusion_matrix(y_test_encoded, xgb_y_pred)\n",
        "\n",
        "# Print confusion matrix\n",
        "print(\"Confusion Matrix:\")\n",
        "print(conf)"
      ]
    },
    {
      "cell_type": "markdown",
      "id": "017766e8",
      "metadata": {
        "id": "017766e8"
      },
      "source": [
        "## CLASSIFICATION REPORT - XGB"
      ]
    },
    {
      "cell_type": "code",
      "execution_count": 42,
      "id": "698863da",
      "metadata": {
        "colab": {
          "base_uri": "https://localhost:8080/"
        },
        "id": "698863da",
        "outputId": "bc76c4da-5977-4f25-f86b-1f5993293c3e"
      },
      "outputs": [
        {
          "name": "stdout",
          "output_type": "stream",
          "text": [
            "Classification Report:\n",
            "               precision    recall  f1-score   support\n",
            "\n",
            "           0       0.95      1.00      0.98        41\n",
            "           1       1.00      1.00      1.00        45\n",
            "           2       1.00      0.86      0.92        35\n",
            "           3       0.93      1.00      0.96        41\n",
            "           4       1.00      1.00      1.00        42\n",
            "           5       1.00      1.00      1.00        41\n",
            "           6       1.00      1.00      1.00        38\n",
            "\n",
            "    accuracy                           0.98       283\n",
            "   macro avg       0.98      0.98      0.98       283\n",
            "weighted avg       0.98      0.98      0.98       283\n",
            "\n"
          ]
        }
      ],
      "source": [
        "#classification report\n",
        "classification_report_result = classification_report(y_test_encoded, xgb_y_pred)\n",
        "\n",
        "print(\"Classification Report:\\n\", classification_report_result)"
      ]
    },
    {
      "cell_type": "markdown",
      "id": "2cc795c9",
      "metadata": {
        "id": "2cc795c9"
      },
      "source": [
        "## ACCURACY AND TIME"
      ]
    },
    {
      "cell_type": "code",
      "execution_count": 43,
      "id": "44ac0c77",
      "metadata": {
        "colab": {
          "base_uri": "https://localhost:8080/"
        },
        "id": "44ac0c77",
        "outputId": "fccf8b02-3078-43dd-9d6c-8e797c7da71f"
      },
      "outputs": [
        {
          "name": "stdout",
          "output_type": "stream",
          "text": [
            "XGB Accuracy: 0.9823321554770318\n",
            "XGB Time: 5.724999999756619e-05\n"
          ]
        }
      ],
      "source": [
        "# Calculating accuracy\n",
        "XGB_accuracy = accuracy_score(y_test_encoded, xgb_y_pred)\n",
        "print('XGB Accuracy:', XGB_accuracy)\n",
        "\n",
        "# training time\n",
        "print('XGB Time:', xgb_toc)"
      ]
    },
    {
      "cell_type": "markdown",
      "id": "4de6860d",
      "metadata": {
        "id": "4de6860d"
      },
      "source": [
        "## STEP5-ADA BOOST AND STACKING CLASSIFIER"
      ]
    },
    {
      "cell_type": "markdown",
      "id": "1b51a903",
      "metadata": {
        "id": "1b51a903"
      },
      "source": [
        "## ADABOOSTCLASSIFIER()"
      ]
    },
    {
      "cell_type": "code",
      "execution_count": 44,
      "id": "603dec10",
      "metadata": {
        "id": "603dec10"
      },
      "outputs": [],
      "source": [
        "from sklearn.ensemble import AdaBoostClassifier\n",
        "from sklearn.naive_bayes import GaussianNB\n",
        "ada_classifier = AdaBoostClassifier(estimator=GaussianNB())\n",
        "ada_tic = timeit.default_timer()\n",
        "ada_classifier.fit(X_train, y_train)\n",
        "ADA_toc = timeit.default_timer() - ada_tic\n",
        "ada_y_pred = ada_classifier.predict(X_test)\n",
        "# gives the confusion matrix\n",
        "classification_report_result = classification_report(y_test, ada_y_pred )"
      ]
    },
    {
      "cell_type": "markdown",
      "id": "e61e779d",
      "metadata": {
        "id": "e61e779d"
      },
      "source": [
        "## CONFUSION MATRIX - ADA"
      ]
    },
    {
      "cell_type": "code",
      "execution_count": 45,
      "id": "907fae8b",
      "metadata": {
        "colab": {
          "base_uri": "https://localhost:8080/"
        },
        "id": "907fae8b",
        "outputId": "7dda21e1-ead7-4a32-881b-c73dc957c244"
      },
      "outputs": [
        {
          "name": "stdout",
          "output_type": "stream",
          "text": [
            "[[41  0  0  0  0  0  0]\n",
            " [ 0 45  0  0  0  0  0]\n",
            " [ 0  0 35  0  0  0  0]\n",
            " [ 0  5  0 36  0  0  0]\n",
            " [ 0  0  0  0 42  0  0]\n",
            " [ 0  0  0  0  0 41  0]\n",
            " [ 0  0  0  0  0  0 38]]\n"
          ]
        }
      ],
      "source": [
        "conf = metrics.confusion_matrix(y_test, ada_y_pred)\n",
        "print(conf)"
      ]
    },
    {
      "cell_type": "markdown",
      "id": "178836c3",
      "metadata": {
        "id": "178836c3"
      },
      "source": [
        "## CLASSIFICATION REPORT - ADA"
      ]
    },
    {
      "cell_type": "code",
      "execution_count": 46,
      "id": "878a3e21",
      "metadata": {
        "colab": {
          "base_uri": "https://localhost:8080/"
        },
        "id": "878a3e21",
        "outputId": "07287ea8-5455-4992-f793-8616f364350a"
      },
      "outputs": [
        {
          "name": "stdout",
          "output_type": "stream",
          "text": [
            "Classification Report:\n",
            "                         precision    recall  f1-score   support\n",
            "\n",
            "        DATA Scientist       1.00      1.00      1.00        41\n",
            "Database Administrator       0.90      1.00      0.95        45\n",
            "      Network Engineer       1.00      1.00      1.00        35\n",
            "     Software Engineer       1.00      0.88      0.94        41\n",
            "          Tech Support       1.00      1.00      1.00        42\n",
            "                 UI/UX       1.00      1.00      1.00        41\n",
            "         Web Developer       1.00      1.00      1.00        38\n",
            "\n",
            "              accuracy                           0.98       283\n",
            "             macro avg       0.99      0.98      0.98       283\n",
            "          weighted avg       0.98      0.98      0.98       283\n",
            "\n"
          ]
        }
      ],
      "source": [
        "print(\"Classification Report:\\n\", classification_report_result)"
      ]
    },
    {
      "cell_type": "markdown",
      "id": "63b2764d",
      "metadata": {
        "id": "63b2764d"
      },
      "source": [
        "## ACCURACY AND TIME"
      ]
    },
    {
      "cell_type": "code",
      "execution_count": 47,
      "id": "00baa6aa",
      "metadata": {
        "colab": {
          "base_uri": "https://localhost:8080/"
        },
        "id": "00baa6aa",
        "outputId": "bed73cec-4c6f-4b66-9b97-d5af253773ee"
      },
      "outputs": [
        {
          "name": "stdout",
          "output_type": "stream",
          "text": [
            "ADA Accuracy:  0.9823321554770318\n",
            "ADA Time:  0.1409126710000237\n"
          ]
        }
      ],
      "source": [
        "ADA_accuracy = accuracy_score(y_test, ada_y_pred)\n",
        "print('ADA Accuracy: ', ADA_accuracy)\n",
        "print('ADA Time: ', ADA_toc)"
      ]
    },
    {
      "cell_type": "markdown",
      "id": "0ee012e7",
      "metadata": {
        "id": "0ee012e7"
      },
      "source": [
        "## STACKING CLASSIFIER"
      ]
    },
    {
      "cell_type": "code",
      "execution_count": 48,
      "id": "b0844bc2",
      "metadata": {
        "id": "b0844bc2"
      },
      "outputs": [],
      "source": [
        "# Stacking classifier\n",
        "from sklearn.ensemble import StackingClassifier\n",
        "\n",
        "# Base models\n",
        "from sklearn.tree import DecisionTreeClassifier\n",
        "from sklearn.neighbors import KNeighborsClassifier\n",
        "from sklearn.svm import SVC\n",
        "from sklearn.linear_model import LogisticRegression\n"
      ]
    },
    {
      "cell_type": "code",
      "execution_count": 49,
      "id": "5ba16434",
      "metadata": {
        "id": "5ba16434"
      },
      "outputs": [],
      "source": [
        "# Create a list of base models\n",
        "\n",
        "estimators = [\n",
        "    ('decision_tree', DecisionTreeClassifier()),\n",
        "    ('knn', KNeighborsClassifier()),\n",
        "    ('svc', SVC()),\n",
        "    ('rfc', RandomForestClassifier()),\n",
        "]"
      ]
    },
    {
      "cell_type": "markdown",
      "id": "f119a38d",
      "metadata": {
        "id": "f119a38d"
      },
      "source": [
        "## CONFUSION MATRIX - STACKING CLASSIFIER"
      ]
    },
    {
      "cell_type": "code",
      "execution_count": 50,
      "id": "0e06585e",
      "metadata": {
        "colab": {
          "base_uri": "https://localhost:8080/"
        },
        "id": "0e06585e",
        "outputId": "4f082c00-04fd-423a-9e60-6c7ba252683b"
      },
      "outputs": [
        {
          "name": "stdout",
          "output_type": "stream",
          "text": [
            "[[41  0  0  0  0  0  0]\n",
            " [ 0 45  0  0  0  0  0]\n",
            " [ 0  0 35  0  0  0  0]\n",
            " [ 0  0  0 41  0  0  0]\n",
            " [ 0  0  0  0 42  0  0]\n",
            " [ 0  0  0  0  0 41  0]\n",
            " [ 0  0  0  0  0  0 38]]\n"
          ]
        },
        {
          "name": "stderr",
          "output_type": "stream",
          "text": [
            "/usr/local/lib/python3.10/dist-packages/sklearn/linear_model/_logistic.py:458: ConvergenceWarning: lbfgs failed to converge (status=1):\n",
            "STOP: TOTAL NO. of ITERATIONS REACHED LIMIT.\n",
            "\n",
            "Increase the number of iterations (max_iter) or scale the data as shown in:\n",
            "    https://scikit-learn.org/stable/modules/preprocessing.html\n",
            "Please also refer to the documentation for alternative solver options:\n",
            "    https://scikit-learn.org/stable/modules/linear_model.html#logistic-regression\n",
            "  n_iter_i = _check_optimize_result(\n"
          ]
        }
      ],
      "source": [
        "st_classifier = StackingClassifier(\n",
        "    estimators=estimators, final_estimator=LogisticRegression()\n",
        ")\n",
        "\n",
        "# Fit the model\n",
        "st_tic = timeit.default_timer()\n",
        "st_classifier = st_classifier.fit(X_train, y_train)\n",
        "st_toc = timeit.default_timer() - st_tic\n",
        "st_y_pred = st_classifier.predict(X_test)\n",
        "# gives the confusion matrix\n",
        "conf = metrics.confusion_matrix(y_test, st_y_pred)\n",
        "print(conf)\n",
        "classification_report_result = classification_report(y_test, st_y_pred )"
      ]
    },
    {
      "cell_type": "markdown",
      "id": "8acf9c9b",
      "metadata": {
        "id": "8acf9c9b"
      },
      "source": [
        "## CLASSSIFICATION REPORT - STACKING CLASSIFIER"
      ]
    },
    {
      "cell_type": "code",
      "execution_count": 51,
      "id": "0b7cbb6a",
      "metadata": {
        "colab": {
          "base_uri": "https://localhost:8080/"
        },
        "id": "0b7cbb6a",
        "outputId": "c2f9f755-f116-4230-ded6-6ef2f844bc24"
      },
      "outputs": [
        {
          "name": "stdout",
          "output_type": "stream",
          "text": [
            "Classification Report:\n",
            "                         precision    recall  f1-score   support\n",
            "\n",
            "        DATA Scientist       1.00      1.00      1.00        41\n",
            "Database Administrator       1.00      1.00      1.00        45\n",
            "      Network Engineer       1.00      1.00      1.00        35\n",
            "     Software Engineer       1.00      1.00      1.00        41\n",
            "          Tech Support       1.00      1.00      1.00        42\n",
            "                 UI/UX       1.00      1.00      1.00        41\n",
            "         Web Developer       1.00      1.00      1.00        38\n",
            "\n",
            "              accuracy                           1.00       283\n",
            "             macro avg       1.00      1.00      1.00       283\n",
            "          weighted avg       1.00      1.00      1.00       283\n",
            "\n"
          ]
        }
      ],
      "source": [
        "print(\"Classification Report:\\n\", classification_report_result)"
      ]
    },
    {
      "cell_type": "markdown",
      "id": "1a5f24f2",
      "metadata": {
        "id": "1a5f24f2"
      },
      "source": [
        "## ACCURACY AND TIME"
      ]
    },
    {
      "cell_type": "code",
      "execution_count": 52,
      "id": "79d0ceb2",
      "metadata": {
        "colab": {
          "base_uri": "https://localhost:8080/"
        },
        "id": "79d0ceb2",
        "outputId": "5b484b2f-9c39-423c-a48f-779e8b7cb510"
      },
      "outputs": [
        {
          "name": "stdout",
          "output_type": "stream",
          "text": [
            "ST Accuracy:  1.0\n",
            "ST Time:  0.874719056999993\n"
          ]
        }
      ],
      "source": [
        "ST_accuracy = accuracy_score(y_test, st_y_pred)\n",
        "print('ST Accuracy: ', ST_accuracy)\n",
        "print('ST Time: ', st_toc)"
      ]
    },
    {
      "cell_type": "markdown",
      "id": "52a9ce89",
      "metadata": {
        "id": "52a9ce89"
      },
      "source": [
        "## COMPARING MODEL ACCURACY"
      ]
    },
    {
      "cell_type": "code",
      "execution_count": 53,
      "id": "dad2487a",
      "metadata": {
        "colab": {
          "base_uri": "https://localhost:8080/",
          "height": 472
        },
        "id": "dad2487a",
        "outputId": "2f3a8467-57f2-4b06-caff-965d86c36e1c",
        "scrolled": true
      },
      "outputs": [
        {
          "data": {
            "image/png": "[encoded data removed]",
            "text/plain": [
              "<Figure size 640x480 with 1 Axes>"
            ]
          },
          "metadata": {},
          "output_type": "display_data"
        }
      ],
      "source": [
        "#compare the resulting accuracies\n",
        "import matplotlib.pyplot as plt\n",
        "accuracy_scores = [KNN_accuracy, SDG_accuracy, DCT_accuracy, RF_accuracy, XGB_accuracy, ADA_accuracy, ST_accuracy]\n",
        "classifier_names = ['KNN', 'SGD', 'DCT', 'RF', 'XGB', 'ADA', 'ST']\n",
        "\n",
        "#plt.bar(classifier_names, accuracy_scores\n",
        "bars = plt.bar(classifier_names, accuracy_scores,color=['purple', 'grey', 'red', 'green', 'lavender', 'orange', 'pink'])\n",
        "plt.xlabel(\"Classifier\")\n",
        "plt.ylabel(\"Accuracy\")\n",
        "plt.title(\"Comparison of Model Accuracy\")\n",
        "plt.ylim(0.675, 1.1)\n",
        "for bar in bars:\n",
        "    yval = bar.get_height()\n",
        "    plt.text(bar.get_x() + bar.get_width()/2.0, yval, round(yval, 2), va='bottom', ha='center')\n",
        "plt.show()\n",
        "# Model Accuracy conclusion"
      ]
    },
    {
      "cell_type": "markdown",
      "id": "cb63266f",
      "metadata": {
        "id": "cb63266f"
      },
      "source": [
        "## COMPARING MODEL EXECUTION TIME"
      ]
    },
    {
      "cell_type": "code",
      "execution_count": 54,
      "id": "6ad7f3ff",
      "metadata": {
        "colab": {
          "base_uri": "https://localhost:8080/",
          "height": 472
        },
        "id": "6ad7f3ff",
        "outputId": "6434f577-7664-40c1-f4a6-24e41d614b33"
      },
      "outputs": [
        {
          "data": {
            "image/png": "[encoded data removed]",
            "text/plain": [
              "<Figure size 640x480 with 1 Axes>"
            ]
          },
          "metadata": {},
          "output_type": "display_data"
        }
      ],
      "source": [
        "#compare the resulting accuracies\n",
        "time = [KNN_toc, SGD_toc, DCT_toc, rf_toc, xgb_toc, ADA_toc, st_toc]\n",
        "classifier_names = ['KNN', 'SGD', 'DCT', 'RF', 'XGB', 'ADA', 'ST']\n",
        "\n",
        "#plt.bar(classifier_names, accuracy_scores\n",
        "bars = plt.bar(classifier_names, time, color=['purple', 'blue', 'grey', 'green', 'lavender', 'orange', 'pink'])\n",
        "plt.xlabel(\"Classifier\")\n",
        "plt.ylabel(\"Time in secs\")\n",
        "plt.title(\"Comparison of Model Execution Time\")\n",
        "#plt.ylim(0.675, 0.8)\n",
        "for bar in bars:\n",
        "    yval = bar.get_height()\n",
        "    plt.text(bar.get_x() + bar.get_width()/2.0, yval, round(yval, 2), va='bottom', ha='center')\n",
        "plt.show()\n"
      ]
    },
    {
      "cell_type": "markdown",
      "id": "9a28f7bc",
      "metadata": {
        "id": "9a28f7bc"
      },
      "source": [
        "## EFFICIENCY  SCORES"
      ]
    },
    {
      "cell_type": "code",
      "execution_count": 55,
      "id": "ef9dba0e",
      "metadata": {
        "colab": {
          "base_uri": "https://localhost:8080/"
        },
        "id": "ef9dba0e",
        "outputId": "390c4005-6850-4ea6-b241-7a129ab6d1f0"
      },
      "outputs": [
        {
          "name": "stdout",
          "output_type": "stream",
          "text": [
            "Efficiency Scores:\n",
            "DCT: 0.688\n",
            "XGB: 0.6829999999999999\n",
            "SGD: 0.6779999999999999\n",
            "ADA: 0.6679999999999999\n",
            "KNN: 0.6589999999999999\n",
            "RF: 0.613\n",
            "ST: 0.571\n"
          ]
        }
      ],
      "source": [
        "accuracy_scores = {'KNN': 0.98, 'SGD': 0.99, 'DCT': 1, 'RF': 1, 'XGB': 0.98, 'ADA': 0.98, 'ST': 1}\n",
        "runtime_scores = {'KNN': 0.09, 'SGD': 0.05, 'DCT': 0.04, 'RF': 0.29, 'XGB': 0.01, 'ADA': 0.06, 'ST': 0.43}\n",
        "\n",
        "weight_accuracy = 0.7  # Weight assigned to accuracy\n",
        "weight_runtime = 0.3   # Weight assigned to runtime\n",
        "\n",
        "efficiency_scores = {}\n",
        "\n",
        "for classifier in accuracy_scores:\n",
        "    efficiency_scores[classifier] = (weight_accuracy * accuracy_scores[classifier]) - (weight_runtime * runtime_scores[classifier])\n",
        "\n",
        "# Sorting efficiency scores to find the best algorithm\n",
        "sorted_efficiency_scores = sorted(efficiency_scores.items(), key=lambda x: x[1], reverse=True)\n",
        "\n",
        "print(\"Efficiency Scores:\")\n",
        "for classifier, score in sorted_efficiency_scores:\n",
        "    print(f\"{classifier}: {score}\")\n"
      ]
    },
    {
      "cell_type": "markdown",
      "id": "360818a7",
      "metadata": {
        "id": "360818a7"
      },
      "source": [
        "## CONCLUSION"
      ]
    },
    {
      "cell_type": "markdown",
      "id": "07353331",
      "metadata": {
        "id": "07353331"
      },
      "source": [
        "**Missing Values:** Fortunately, the dataset did not have any missing values. Therefore, there was no need for imputation or handling missing data.\n",
        "\n",
        "\n",
        "**Object Type Columns to Numeric:** All columns in the dataset were already numeric except the skill column.\n",
        "We used one-hot encoding to convert categorical columns into numerical format. This technique is commonly used in machine learning to handle categorical data.\n",
        "uses Pandas' get_dummies() function to perform one-hot encoding specifically on the 'Skill' column. This function creates binary columns for each category in the 'Skill' column, assigning a 1 if the category is present and a 0 otherwise.\n",
        "\n",
        "**Object Type Columns to DateTime Object:** There were no columns in the dataset that needed to be converted to DateTime objects, as all features were related to job roles and did not involve temporal data.\n",
        "\n",
        "**Duplicates:** There were no duplicate entries identified in the dataset, ensuring data integrity and consistency.\n",
        "\n",
        "\n",
        "**Identifying the Best Performing Model:** Among the classification models evaluated (Decision Tree, Random Forest, SGD Classifier, XGB Classifier, AdaBoost, and Stacking Classifier), the Stacking Classifier emerged as the top-performing model with 100% accuracy with a relatively short training time compared to other models. This model outperformed the others in terms of predictive accuracy"
      ]
    },
    {
      "cell_type": "markdown",
      "id": "018d9af4",
      "metadata": {
        "id": "018d9af4"
      },
      "source": [
        "In conclusion, the analysis revealed a clean dataset with no missing values or duplicates. The models achieved impressive accuracy scores, with the Stacking Classifier standing out as the best performer. Future work could involve further exploration of feature engineering techniques, hyperparameter tuning, and expanding the dataset to improve generalization capabilities. Below is the code snippet summarizing the models and their performances:"
      ]
    },
    {
      "cell_type": "code",
      "execution_count": 56,
      "id": "e34958a0",
      "metadata": {
        "colab": {
          "base_uri": "https://localhost:8080/"
        },
        "id": "e34958a0",
        "outputId": "eca1ebcf-71b5-417d-8869-fc1f95763017"
      },
      "outputs": [
        {
          "name": "stdout",
          "output_type": "stream",
          "text": [
            "Best Performing Model:\n",
            "Model: Decision Tree\n",
            "Accuracy: 1.0\n",
            "Training Time: 9.992431327999952\n"
          ]
        }
      ],
      "source": [
        "models = {\n",
        "    \"Decision Tree\": (DCT_accuracy, DCT_toc),\n",
        "    \"Random Forest\": (RF_accuracy, rf_toc),\n",
        "    \"SGD Classifier\": (SDG_accuracy , SGD_toc),\n",
        "    \"XGB Classifier\": (XGB_accuracy, xgb_toc),\n",
        "    \"AdaBoost\": (ADA_accuracy, ADA_toc),\n",
        "    \"Stacking Classifier\": (ST_accuracy, st_toc)\n",
        "}\n",
        "\n",
        "best_model = max(models, key=lambda key: models[key][0])\n",
        "\n",
        "print(\"Best Performing Model:\")\n",
        "print(f\"Model: {best_model}\")\n",
        "print(f\"Accuracy: {models[best_model][0]}\")\n",
        "print(f\"Training Time: {models[best_model][1]}\")"
      ]
    }
  ],
  "metadata": {
    "colab": {
      "provenance": []
    },
    "kernelspec": {
      "display_name": "Python 3 (ipykernel)",
      "language": "python",
      "name": "python3"
    },
    "language_info": {
      "codemirror_mode": {
        "name": "ipython",
        "version": 3
      },
      "file_extension": ".py",
      "mimetype": "text/x-python",
      "name": "python",
      "nbconvert_exporter": "python",
      "pygments_lexer": "ipython3",
      "version": "3.11.5"
    }
  },
  "nbformat": 4,
  "nbformat_minor": 5
}
